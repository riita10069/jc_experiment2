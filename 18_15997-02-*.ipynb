{
 "cells": [
  {
   "cell_type": "markdown",
   "metadata": {},
   "source": [
    "## 情報通信実験2 課題1\n",
    "山田遼太\n",
    "\n",
    "18B15997\n",
    "\n",
    "情報通信実験2 (ICT.E218)\n",
    "\n",
    "##### 協力者\n",
    "- 栢之間諒汰\n",
    "\n",
    "\n",
    "\n",
    "\n",
    "\n",
    "\n",
    "#### 注意事項\n",
    "- 正しくプログラムが動作しない、解答がどの問題に対応するか分からない、などの不備がございましたら、文脈上もっとも尤もらしい修正を施して採点していただけますと幸いです。\n",
    "- プログラムに対するコメントはプログラムの下にも記述しています。クラスや関数がどのような役割で、処理の難所に関してはどのように処理しているかについても言及しています。"
   ]
  },
  {
   "cell_type": "markdown",
   "metadata": {},
   "source": [
    "<span style=\"margin-left:8px; padding:6px 10px; background:#ff9933; color:#ffffff; font-weight:bold;border-radius:5px;-webkit-border-radius:5px;-moz-border-radius:5px;\">２.１</span>"
   ]
  },
  {
   "cell_type": "code",
   "execution_count": null,
   "metadata": {
    "collapsed": true
   },
   "outputs": [],
   "source": []
  },
  {
   "cell_type": "markdown",
   "metadata": {},
   "source": [
    "<span style=\"margin-left:8px; padding:6px 10px; background:#ff9933; color:#ffffff; font-weight:bold;border-radius:5px;-webkit-border-radius:5px;-moz-border-radius:5px;\">２.２</span>"
   ]
  },
  {
   "cell_type": "code",
   "execution_count": null,
   "metadata": {
    "collapsed": true
   },
   "outputs": [],
   "source": []
  },
  {
   "cell_type": "markdown",
   "metadata": {},
   "source": [
    "<div style=\"height:12px;\">\n",
    "<span style=\"margin-left:8px; padding:6px 10px; background:#ff9933; color:#ffffff; font-weight:bold;border-radius:5px;-webkit-border-radius:5px;-moz-border-radius:5px;\">２.３</span>\n",
    "</div>\n",
    "<div style=\"border:2px solid #ff9933; padding:25px 12px 10px; font-size:0.85em;border-radius:5px;-webkit-border-radius:5px;-moz-border-radius:5px;\">\n",
    "    ガンマ符号とは、正の整数のための可変長符号である。小さな数には短い符号語を、大きな数には長い符号語を割り当てる。手順としては、以下のようである。\n",
    "\n",
    "<h5> (ガンマ符号化の手順  )  </h5>\n",
    "<li>対象となる正の整数をNとする</li>\n",
    "<li>これを二進数表現のXに変換する </li>\n",
    "<li>この桁数をLとすると、L-1だけXの上の桁に0を追加し、これをYとする</li>\n",
    "<li>Yを出力する</li>\n",
    "\n",
    "算術符号は0~1の半開区間の実数空間上に符号を割り当てる方式であるが、これは符号長が既知でなければ正しく復号することができない。そこでこの符号長をガンマ符号により符号化して送信しこれを暗号化、この符号長を手がかりに算術符号で暗号化された文を復号すれば良い。\n",
    "</div>"
   ]
  },
  {
   "cell_type": "markdown",
   "metadata": {
    "collapsed": true
   },
   "source": [
    "<span style=\"margin-left:8px; padding:6px 10px; background:#ff9933; color:#ffffff; font-weight:bold;border-radius:5px;-webkit-border-radius:5px;-moz-border-radius:5px;\">２.４</span>"
   ]
  },
  {
   "cell_type": "code",
   "execution_count": null,
   "metadata": {
    "collapsed": true
   },
   "outputs": [],
   "source": [
    "import numpy as np\n",
    "import struct\n",
    "\n",
    "class RangeCoder():\n",
    "    def __init__(self, symbol, codeword):\n",
    "        self.symbol = symbol\n",
    "        self.codeword = codeword\n",
    "    def encode(Symbol, CW, Symbols):\n",
    "        segment = np.array([float(0), float(1)])\n",
    "        for i in range(len(Symbols)):\n",
    "            width=segment[1]-segment[0]\n",
    "            for j in range(len(Symbol)):\n",
    "                if Symbols[i]==Symbol[j]:\n",
    "                    segment=[segment[0]+width*CW[j][0], segment[0]+width*CW[j][1]]\n",
    "        width=segment[1]-segment[0]\n",
    "        print(segment)\n",
    "        TypicalValue=np.mean(segment)\n",
    "        length=np.ceil(-np.log2(width))+1\n",
    "        return DoubleToBin(TypicalValue)[1:int(length)]\n",
    "\n",
    "    def decode(Symbol, CW, codewords, length):\n",
    "        TypicalValue=BinToDouble(codewords)\n",
    "        Symbols=''\n",
    "        for i in range(length):\n",
    "            for j in range(len(Symbol)):\n",
    "                if CW[j][0]<TypicalValue and TypicalValue<CW[j][1]:\n",
    "                    Symbols=Symbols+Symbol[j]\n",
    "                    width=CW[j][1]-CW[j][0]\n",
    "                    TypicalValue=(TypicalValue-CW[j][0])/width\n",
    "                    break\n",
    "        return Symbols\n",
    "\n",
    "    \n",
    "\n",
    "def DoubleToBin(f):\n",
    "    full=str(bin(struct.unpack('>Q', struct.pack('>d', f))[0]))\n",
    "    zeronum=0b1111111111-int('0b'+full[2:12], 0)\n",
    "    return '0'*zeronum+'1'+full[12:]\n",
    "\n",
    "def BinToDouble(f):\n",
    "    zeronum=f.index('1')+1\n",
    "    frac=(f[zeronum:]+'0'*52)[:52]\n",
    "    head=str(bin(0b1111111111-int(zeronum)))\n",
    "    return struct.unpack('>d', struct.pack('>Q', int(head+frac, 0)))[0]\n",
    "    \n",
    "\n",
    "def GetCW(ListProbability):\n",
    "    size=len(ListProbability)\n",
    "    CW=np.array([[float(0), float(0)]for i in range(size)])\n",
    "    for i in range(size):\n",
    "        CW[i, :]=[CW[i-1,1], CW[i-1,1]+ListProbability[i]]\n",
    "    return CW\n",
    "\n",
    "\n",
    "print('alphabet size ', end='')\n",
    "size = int(input())\n",
    "\n",
    "ListSymbol = list()\n",
    "ListP = list()\n",
    "for i in range(size):\n",
    "    print('symbol_{}> '.format(i+1), end='')\n",
    "    ListSymbol.append(str(input())\n",
    "    print('p_{}> '.format(i+1), end='')\n",
    "    ListP.append(float(input()))\n",
    "\n",
    "\n",
    "CW=GetCW(ListP)\n",
    "# print(CW)\n",
    "print('symbols> ', end='')\n",
    "symbols = str(input())\n",
    "codewords=encode(ListSymbol, CW, symbols)\n",
    "print('encode: ', end='')\n",
    "print(codewords)\n",
    "\n",
    "\n",
    "print('codewords> ', end='')\n",
    "codewords = str(input())\n",
    "print('length> ', end='')\n",
    "length=int(input())\n",
    "Symbols=decode(ListSymbol, CW, codewords, length)\n",
    "print(Symbols)"
   ]
  },
  {
   "cell_type": "code",
   "execution_count": null,
   "metadata": {
    "collapsed": true
   },
   "outputs": [],
   "source": []
  },
  {
   "cell_type": "code",
   "execution_count": null,
   "metadata": {
    "collapsed": true
   },
   "outputs": [],
   "source": []
  },
  {
   "cell_type": "code",
   "execution_count": null,
   "metadata": {
    "collapsed": true
   },
   "outputs": [],
   "source": []
  },
  {
   "cell_type": "code",
   "execution_count": null,
   "metadata": {
    "collapsed": true
   },
   "outputs": [],
   "source": []
  }
 ],
 "metadata": {
  "kernelspec": {
   "display_name": "Python 3",
   "language": "python",
   "name": "python3"
  },
  "language_info": {
   "codemirror_mode": {
    "name": "ipython",
    "version": 3
   },
   "file_extension": ".py",
   "mimetype": "text/x-python",
   "name": "python",
   "nbconvert_exporter": "python",
   "pygments_lexer": "ipython3",
   "version": "3.5.3"
  }
 },
 "nbformat": 4,
 "nbformat_minor": 2
}

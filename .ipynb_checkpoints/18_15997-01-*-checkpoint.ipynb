{
 "cells": [
  {
   "cell_type": "markdown",
   "metadata": {},
   "source": [
    "## 情報通信実験2 課題1\n",
    "山田遼太\n",
    "\n",
    "18B15997\n",
    "\n",
    "情報通信実験2 (ICT.E218)\n",
    "<style>\n",
    "#jqs-1 li {\n",
    "  display: none;\n",
    "}\n",
    "</style>\n",
    "<script>\n",
    "$(\"#jqs-1 button\").click(function() {\n",
    "   $(\"#jqs-1 li\").show('slow');\n",
    "}); \n",
    "</script>\n",
    "##### 協力者\n",
    "- 栢之間諒汰\n",
    "\n",
    "\n",
    "\n",
    "\n",
    "\n",
    "\n",
    "#### 注意事項\n",
    "- 正しくプログラムが動作しない、解答がどの問題に対応するか分からない、などの不備がございましたら、文脈上もっとも尤もらしい修正を施して採点していただけますと幸いです。\n",
    "- プログラムに対するコメントはプログラムの下にも記述しています。クラスや関数がどのような役割で、処理の難所に関してはどのように処理しているかについても言及しています。"
   ]
  },
  {
   "cell_type": "markdown",
   "metadata": {},
   "source": [
    "<div style=\"height:12px;\">\n",
    "<span style=\"margin-left:8px; padding:6px 10px; background:#ff9933; color:#ffffff; font-weight:bold;border-radius:5px;-webkit-border-radius:5px;-moz-border-radius:5px;\">１.１</span>\n",
    "</div>\n",
    "<div style=\"border:2px solid #ff9933; padding:25px 12px 10px; font-size:0.85em;border-radius:5px;-webkit-border-radius:5px;-moz-border-radius:5px;\">\n",
    "    <li>GIF　→ 画像圧縮、画像の透過、アニメーションなどに用いる</li>\n",
    "    <li>Huffyuv　→ 動画の圧縮に用いる</li>\n",
    "    <li>TTA→ 音声の圧縮に用いる</li>\n",
    "\n",
    "</div>"
   ]
  },
  {
   "cell_type": "markdown",
   "metadata": {},
   "source": [
    "<div style=\"height:12px;\">\n",
    "<span style=\"margin-left:8px; padding:6px 10px; background:#ff9933; color:#ffffff; font-weight:bold;border-radius:5px;-webkit-border-radius:5px;-moz-border-radius:5px;\">１.２</span>\n",
    "</div>\n",
    "<div style=\"border:2px solid #ff9933; padding:25px 12px 10px; font-size:0.85em;border-radius:5px;-webkit-border-radius:5px;-moz-border-radius:5px;\">\n",
    "    <li>MPEG-1→動画、音声を圧縮・伸張するときに用いる</li>\n",
    "    <li>VP8→動画圧縮に用いる。</li>\n",
    "    <li>Vorbis→音声圧縮に用いる。</li>\n",
    "</div>"
   ]
  },
  {
   "cell_type": "markdown",
   "metadata": {},
   "source": [
    "<div style=\"height:12px;\">\n",
    "<span style=\"margin-left:8px; padding:6px 10px; background:#ff9933; color:#ffffff; font-weight:bold;border-radius:5px;-webkit-border-radius:5px;-moz-border-radius:5px;\">１.３</span>\n",
    "</div>\n",
    "<div style=\"border:2px solid #ff9933; padding:25px 12px 10px; font-size:0.85em;border-radius:5px;-webkit-border-radius:5px;-moz-border-radius:5px;\">\n",
    "符号長は8\n",
    "</div>"
   ]
  },
  {
   "cell_type": "markdown",
   "metadata": {},
   "source": [
    "<div style=\"height:12px;\">\n",
    "<span style=\"margin-left:8px; padding:6px 10px; background:#ff9933; color:#ffffff; font-weight:bold;border-radius:5px;-webkit-border-radius:5px;-moz-border-radius:5px;\">１.４</span>\n",
    "</div>\n",
    "<div style=\"border:2px solid #ff9933; padding:25px 12px 10px; font-size:0.85em;border-radius:5px;-webkit-border-radius:5px;-moz-border-radius:5px;\">\n",
    "a:0\n",
    "b:10\n",
    "c:110\n",
    "d:1110\n",
    "e:1111\n",
    "</div>"
   ]
  },
  {
   "cell_type": "markdown",
   "metadata": {},
   "source": [
    "<span style=\"margin-left:8px; padding:6px 10px; background:#ff9933; color:#ffffff; font-weight:bold;border-radius:5px;-webkit-border-radius:5px;-moz-border-radius:5px;\">１.５</span>"
   ]
  },
  {
   "cell_type": "code",
   "execution_count": 2,
   "metadata": {
    "collapsed": false
   },
   "outputs": [
    {
     "name": "stdout",
     "output_type": "stream",
     "text": [
      "使いたい語頭符号の番号を入力3\n",
      "symbols aaaababbaba\n",
      "codewords 000010010100100\n"
     ]
    }
   ],
   "source": [
    "class Code():\n",
    "    def __init__(self, pattern, symbol, codeword):\n",
    "        self.pattern = pattern\n",
    "        self.symbol = symbol\n",
    "        self.codeword = codeword\n",
    "        \n",
    "    def encode(self):\n",
    "        if self.pattern == 1:\n",
    "            x = self.symbol.replace('a', '0')\n",
    "            self.codeword = x.replace('b', '1')\n",
    "        elif self.pattern == 2:\n",
    "            x = self.symbol.replace('a', '1')\n",
    "            x = x.replace('b', '01')\n",
    "            self.codeword = x.replace('c', '001')\n",
    "        elif self.pattern == 3:\n",
    "            x = self.symbol.replace('a', '0')\n",
    "            x = x.replace('b', '10')\n",
    "            x = x.replace('c', '110')\n",
    "            self.codeword = x.replace('d', '111')\n",
    "        return 0\n",
    "    \n",
    "    def decode(self):\n",
    "        if self.pattern == 1:\n",
    "            x = self.codeword.replace('1', 'b')\n",
    "            self.symbol = x.replace('0', 'a')\n",
    "        elif self.pattern == 2:\n",
    "            x = self.codeword.replace('001', 'c')\n",
    "            x = x.replace('01', 'b')\n",
    "            self.symbol = x.replace('1', 'a')\n",
    "        elif self.pattern == 3:\n",
    "            x = self.codeword.replace('111', 'd')\n",
    "            x = x.replace('110', 'c')\n",
    "            x = x.replace('10', 'b')\n",
    "            self.symbol = x.replace('0', 'a')\n",
    "        return 0\n",
    "\n",
    "\n",
    "print('使いたい語頭符号の番号を入力', end='')\n",
    "pattern = int(input())\n",
    "print('symbols ', end='')\n",
    "sym= str(input())\n",
    "\n",
    "coding = Code(pattern, sym, \"\")\n",
    "coding.encode()\n",
    "print('codewords ', end='')\n",
    "print(coding.codeword)"
   ]
  },
  {
   "cell_type": "markdown",
   "metadata": {},
   "source": [
    "Codeクラスのメソッドのencode()のなかで、エンコード\n",
    "\n",
    "- 処理自体は、symbolを条件毎にreplaceしたものを作っている\n",
    "- それをcodewordに代入して表示している"
   ]
  },
  {
   "cell_type": "markdown",
   "metadata": {},
   "source": [
    "<span style=\"margin-left:8px; padding:6px 10px; background:#ff9933; color:#ffffff; font-weight:bold;border-radius:5px;-webkit-border-radius:5px;-moz-border-radius:5px;\">１.６</span>"
   ]
  },
  {
   "cell_type": "code",
   "execution_count": 3,
   "metadata": {
    "collapsed": false
   },
   "outputs": [
    {
     "name": "stdout",
     "output_type": "stream",
     "text": [
      "使いたい語頭符号の番号を入力3\n",
      "codewords 10111001\n",
      "symbols bdaa1\n"
     ]
    }
   ],
   "source": [
    "class Code():\n",
    "    def __init__(self, pattern, symbol, codeword):\n",
    "        self.pattern = pattern\n",
    "        self.symbol = symbol\n",
    "        self.codeword = codeword\n",
    "        \n",
    "    def encode(self):\n",
    "        if self.pattern == 1:\n",
    "            x = self.symbol.replace('a', '0')\n",
    "            self.codeword = x.replace('b', '1')\n",
    "        elif self.pattern == 2:\n",
    "            x = self.symbol.replace('a', '1')\n",
    "            x = x.replace('b', '01')\n",
    "            self.codeword = x.replace('c', '001')\n",
    "        elif self.pattern == 3:\n",
    "            x = self.symbol.replace('a', '0')\n",
    "            x = x.replace('b', '10')\n",
    "            x = x.replace('c', '110')\n",
    "            self.codeword = x.replace('d', '111')\n",
    "        return 0\n",
    "    \n",
    "    def decode(self):\n",
    "        if self.pattern == 1:\n",
    "            x = self.codeword.replace('1', 'b')\n",
    "            self.symbol = x.replace('0', 'a')\n",
    "        elif self.pattern == 2:\n",
    "            x = self.codeword.replace('001', 'c')\n",
    "            x = x.replace('01', 'b')\n",
    "            self.symbol = x.replace('1', 'a')\n",
    "        elif self.pattern == 3:\n",
    "            x = self.codeword.replace('111', 'd')\n",
    "            x = x.replace('110', 'c')\n",
    "            x = x.replace('10', 'b')\n",
    "            self.symbol = x.replace('0', 'a')\n",
    "        return 0\n",
    "\n",
    "\n",
    "print('使いたい語頭符号の番号を入力', end='')\n",
    "pattern = int(input())\n",
    "print('codewords ', end='')\n",
    "codew= str(input())\n",
    "\n",
    "coding = Code(pattern, \"\", codew)\n",
    "coding.decode()\n",
    "print('symbols ', end='')\n",
    "print(coding.symbol)"
   ]
  },
  {
   "cell_type": "markdown",
   "metadata": {},
   "source": [
    "Codeクラスのメソッドのdecode()のなかで、デコード\n",
    "\n",
    "- 処理自体は、codewordを条件毎にreplaceし\n",
    "- symbolに代入して表示している。"
   ]
  },
  {
   "cell_type": "markdown",
   "metadata": {
    "collapsed": true
   },
   "source": [
    "<span style=\"margin-left:8px; padding:6px 10px; background:#ff9933; color:#ffffff; font-weight:bold;border-radius:5px;-webkit-border-radius:5px;-moz-border-radius:5px;\">１.７</span>"
   ]
  },
  {
   "cell_type": "code",
   "execution_count": null,
   "metadata": {
    "collapsed": true
   },
   "outputs": [],
   "source": [
    "from heapq import *\n",
    "\n",
    "class Node(object):\n",
    "    def __init__(self, depth, left=None, right=None):\n",
    "        self.left = left\n",
    "        self.right = right\n",
    "        self.depth = depth\n",
    "\n",
    "    def setChildren(self, l, r):\n",
    "        self.left = l\n",
    "        self.right = r\n",
    "\n",
    "    def __repr__(self):\n",
    "        return \"%s -- %s _ %s\" % (self.depth, self.left, self.right)\n",
    "\n",
    "    def __cmp__(self, a):\n",
    "        return cmp(self.depth, a.depth)\n",
    "    \n",
    "    def __lt__(self,other):\n",
    "        return (self.depth) < (other.depth)\n",
    "\n",
    "\n",
    "def create_tree(array):\n",
    "    node = [Node(depth) for depth in array]\n",
    "    heapify(node)\n",
    "    for j in range(len(node))\n",
    "        n = heappop(node)\n",
    "        above = Node(n.depth - 1 - i)\n",
    "        above.setChildren(n, None)　if j != 0 and i == 0 else above.setChildren(None, n)\n",
    "        for i in range(n.depth - 1):\n",
    "            above = Node(n.depth - 1 - i)\n",
    "            above.setChildren(n, None)　if j != 0 and i == 0 else above.setChildren(None, n)\n",
    "            heappush(node, above)\n",
    "            n = above \n",
    "    return node[0]\n",
    "\n",
    "def make_code(node):\n",
    "    s = \"\"\n",
    "    make_code(s+\"0\", node.left)\n",
    "    make_code(s+\"1\", node.right)\n",
    "\n",
    "def huffman(array):\n",
    "    node = create_tree(array)\n",
    "    node make_code(node)\n",
    "        \n",
    "if __name__ == \"__main__\": \n",
    "    print('alphabet␣size>␣')\n",
    "    N = int(input())\n",
    "    array = [float(input()) for i in range(N)] \n",
    "    huffman(array)\n",
    "    "
   ]
  },
  {
   "cell_type": "code",
   "execution_count": null,
   "metadata": {
    "collapsed": true
   },
   "outputs": [],
   "source": [
    "from heapq import *\n",
    "from math import log2\n",
    "from statistics import mean\n",
    "import pprint\n",
    "\n",
    "class Node(object):\n",
    "    def __init__(self, value, prob, left=None, right=None):\n",
    "        self.value = value\n",
    "        self.left = left\n",
    "        self.right = right\n",
    "        self.prob = prob\n",
    "\n",
    "    def setChildren(self, l, r):\n",
    "        self.left = l\n",
    "        self.right = r\n",
    "\n",
    "    def __repr__(self):\n",
    "        return \"%s -- %s -- %s _ %s\" % (self.value, self.prob, self.left, self.right)\n",
    "\n",
    "    def __cmp__(self, a):\n",
    "        return cmp(self.prob, a.prob)\n",
    "    \n",
    "    def __lt__(self,other):\n",
    "            return (self.prob) < (other.prob)\n",
    "codes = {}\n",
    "\n",
    "\n",
    "def create_tree(node):\n",
    "    while len(node) > 1:\n",
    "        l = heappop(node)\n",
    "        r = heappop(node)\n",
    "        \n",
    "        above = Node(None, r.prob + l.prob)\n",
    "        above.setChildren(l, r)\n",
    "        heappush(node, above)\n",
    "\n",
    "def make_code(s, node):\n",
    "    if node.value:\n",
    "        if not s:\n",
    "            codes[node.value] = \"0\"\n",
    "        else:\n",
    "            codes[node.value] = s\n",
    "    else:\n",
    "        make_code(s+\"0\", node.left)\n",
    "        make_code(s+\"1\", node.right)\n",
    "\n",
    "def huffman(syms, probs):\n",
    "    dic = {key: val for key, val in zip(syms, probs)}\n",
    "    nodes = [Node(s, p) for (s, p) in dic.items()]\n",
    "\n",
    "    \n",
    "    heapify(nodes)\n",
    "    create_tree(nodes)\n",
    "    return make_code(\"\", nodes[0])\n",
    "\n",
    "def H(lst):\n",
    "    return -sum([x*log2(x) if x != 0 else 0 for x in lst])\n",
    "\n",
    "        \n",
    "if __name__ == \"__main__\": \n",
    "    print('alphabet␣size>␣')\n",
    "    num = int(input())\n",
    "    \n",
    "    depth = list()\n",
    "    for i in range(num):\n",
    "        print('l_{}> '.format(i+1), end='')\n",
    "        depth.append(int(input()))\n",
    "        \n",
    "    syms = range(1, num+1, 1)\n",
    "    probs = [pow(2, -i) for i in depth]\n",
    "    for i in range(N):\n",
    "        print('l_{}> '.format(i+1), end='')\n",
    "        syms.append(str(input()))\n",
    "        print('p_{}> '.format(i+1), end='')\n",
    "        probs.append(float(input()))\n",
    "    \n",
    "    huffman(syms, probs)\n",
    "    print(\"cw␣for␣\")\n",
    "    pprint.pprint(codes, width=1)\n",
    "    print('entropy: ')\n",
    "    print(H(probs))\n",
    "    print('average_length')\n",
    "    print(mean([len(l) for l in codes.values()]))\n"
   ]
  },
  {
   "cell_type": "markdown",
   "metadata": {},
   "source": [
    "<span style=\"margin-left:8px; padding:6px 10px; background:#ff9933; color:#ffffff; font-weight:bold;border-radius:5px;-webkit-border-radius:5px;-moz-border-radius:5px;\">１.８</span>"
   ]
  },
  {
   "cell_type": "code",
   "execution_count": null,
   "metadata": {
    "collapsed": false
   },
   "outputs": [],
   "source": []
  },
  {
   "cell_type": "markdown",
   "metadata": {},
   "source": [
    "<span style=\"margin-left:8px; padding:6px 10px; background:#ff9933; color:#ffffff; font-weight:bold;border-radius:5px;-webkit-border-radius:5px;-moz-border-radius:5px;\">１.９</span>"
   ]
  },
  {
   "cell_type": "code",
   "execution_count": 2,
   "metadata": {
    "collapsed": false
   },
   "outputs": [
    {
     "name": "stdout",
     "output_type": "stream",
     "text": [
      "alphabet␣size>␣\n",
      "4\n",
      "symbol_1> a\n",
      "p_1> 0.4\n",
      "symbol_2> b\n",
      "p_2> 0.3\n",
      "symbol_3> c\n",
      "p_3> 0.2\n",
      "symbol_4> d\n",
      "p_4> 0.1\n",
      "cw␣for␣\n",
      "{'a': '0',\n",
      " 'b': '10',\n",
      " 'c': '111',\n",
      " 'd': '110'}\n",
      "entropy: \n",
      "1.8464393446710154\n",
      "average_length\n",
      "2.1\n"
     ]
    }
   ],
   "source": [
    "from heapq import *\n",
    "from math import log2\n",
    "from statistics import mean\n",
    "import pprint\n",
    "import numpy as np\n",
    "\n",
    "class Node(object):\n",
    "    def __init__(self, value, prob, left=None, right=None):\n",
    "        self.value = value\n",
    "        self.left = left\n",
    "        self.right = right\n",
    "        self.prob = prob\n",
    "\n",
    "    def setChildren(self, l, r):\n",
    "        self.left = l\n",
    "        self.right = r\n",
    "\n",
    "    def __repr__(self):\n",
    "        return \"%s -- %s -- %s _ %s\" % (self.value, self.prob, self.left, self.right)\n",
    "\n",
    "    def __cmp__(self, a):\n",
    "        return cmp(self.prob, a.prob)\n",
    "    # heap木でnode同士を比較するのでそれ用\n",
    "    def __lt__(self,other):\n",
    "            return (self.prob) < (other.prob)\n",
    "codes = {}\n",
    "\n",
    "\n",
    "def create_tree(node):\n",
    "    # len　nodeが１になるまで回す。\n",
    "    while len(node) > 1:\n",
    "        # 確率の小さい方から二つを取り出す。heap木の利用。\n",
    "        # 確率の小さいものほど下になるようにしている。\n",
    "        l = heappop(node)\n",
    "        r = heappop(node)\n",
    "        # 取り出したやつの親のノードのコンストラクタを呼ぶ\n",
    "        above = Node(None, r.prob + l.prob)\n",
    "        above.setChildren(l, r)\n",
    "        heappush(node, above)\n",
    "\n",
    "def make_code(s, node):\n",
    "    # sに文字列を完成させていく。\n",
    "    # valueがあるのは葉だけ。\n",
    "    if node.value:\n",
    "        if not s:\n",
    "            codes[node.value] = \"0\"\n",
    "        else:\n",
    "            codes[node.value] = s\n",
    "    else:\n",
    "        make_code(s+\"0\", node.left)\n",
    "        make_code(s+\"1\", node.right)\n",
    "\n",
    "# adapter\n",
    "def huffman(syms, probs):\n",
    "    # key=sym, value=probsの連想配列に変換してからNodeクラスの要素に入れる\n",
    "    dic = {key: val for key, val in zip(syms, probs)}\n",
    "    # nodesは葉の数だけできる。まだsetChildrenはしていない。\n",
    "    nodes = [Node(s, p) for (s, p) in dic.items()]\n",
    "\n",
    "    \n",
    "    heapify(nodes)\n",
    "    # 作ったnodeをcreate_treeへ\n",
    "    create_tree(nodes)\n",
    "    return make_code(\"\", nodes[0])\n",
    "\n",
    "def H(lst):\n",
    "    return -sum([x*log2(x) if x != 0 else 0 for x in lst])\n",
    "\n",
    "        \n",
    "if __name__ == \"__main__\": \n",
    "    print('alphabet␣size>␣')\n",
    "    N = int(input())\n",
    "    syms = list()\n",
    "    probs = list()\n",
    "    for i in range(N):\n",
    "        print('symbol_{}> '.format(i+1), end='')\n",
    "        syms.append(str(input()))\n",
    "        print('p_{}> '.format(i+1), end='')\n",
    "        probs.append(float(input()))\n",
    "    \n",
    "    huffman(syms, probs)\n",
    "    print(\"cw␣for␣\")\n",
    "    pprint.pprint(codes, width=1)\n",
    "    print('entropy: ')\n",
    "    print(H(probs))\n",
    "    print('average_length')\n",
    "    print(np.dot(np.array([len(l) for l in codes.values()]), np.array(probs).T )  )\n"
   ]
  },
  {
   "cell_type": "markdown",
   "metadata": {},
   "source": [
    "# 処理の流れ\n",
    "- huffmanが呼ばれる。これがクリーンアーキテクチャとかで言われるところの*adapter*的な役割\n",
    "##### huffman()\n",
    "- dic = {key: val for key, val in zip(syms, probs)};nodes = [Node(s, p) for (s, p) in dic.items()]\n",
    "    - ここで、Nodeクラスに信号と確率を代入していきます。\n",
    "    - この時点で、葉がに対応するNodeが出来上がります。まだ枝では繋がっていません。\n",
    "- heapify(nodes)\n",
    "    - heap木に入れています。この比較条件は、probで比較しています。（__lt__()で定義）\n",
    "- create_tree(nodes)\n",
    "    - ここで実際に枝を作っていきます。\n",
    "    - 内部で行なっている処理は、nodeを確率の小さいものから順に２つheapから取り出してきて(heappop)\n",
    "    - その２つの親のNodeを定義して、setChildで枝を作ってくっつけています。\n",
    "    - それを全ての枝だけ続けています。\n",
    "- return make_code(\"\", nodes[0])\n",
    "    - create_treeで作った木を再帰的に呼び出すことで順にcodesに代入しています。\n"
   ]
  },
  {
   "cell_type": "markdown",
   "metadata": {
    "collapsed": true
   },
   "source": [
    "<span style=\"margin-left:8px; padding:6px 10px; background:#ff9933; color:#ffffff; font-weight:bold;border-radius:5px;-webkit-border-radius:5px;-moz-border-radius:5px;\">１.１０</span>"
   ]
  },
  {
   "cell_type": "code",
   "execution_count": 5,
   "metadata": {
    "collapsed": false
   },
   "outputs": [],
   "source": [
    "class Code():\n",
    "    def __init__(self, symbol, codeword, stack):\n",
    "        self.symbol = str(symbol) + \"/\"\n",
    "        self.codeword = codeword\n",
    "        self.stack = stack\n",
    "        \n",
    "    def decode(self):\n",
    "        for c in self.symbol:\n",
    "            self.stack += str(c)\n",
    "            if self.stack == \"10\":\n",
    "                self.codeword += \"a\"\n",
    "                self.stack = \"\"\n",
    "            elif self.stack == \"00\":\n",
    "                self.codeword += \"b\"\n",
    "                self.stack = \"\"\n",
    "            elif self.stack == \"11\":\n",
    "                self.codeword += \"c\"\n",
    "                self.stack = \"\"\n",
    "            elif self.stack == \"01\"or  self.stack == \"0/\" :\n",
    "                m = self.codeword.rfind(\"c\")\n",
    "                self.codeword = self.codeword[:m] + \"d\" + self.codeword[m+1:]\n",
    "                self.stack = \"1\"\n"
   ]
  },
  {
   "cell_type": "code",
   "execution_count": 7,
   "metadata": {
    "collapsed": false
   },
   "outputs": [
    {
     "name": "stdout",
     "output_type": "stream",
     "text": [
      "symbols 101010100011011100\n",
      "codewords aaaabdda\n"
     ]
    }
   ],
   "source": [
    "print('symbols ', end='')\n",
    "sym= str(input())\n",
    "\n",
    "coding = Code(sym, \"\", \"\")\n",
    "coding.decode()\n",
    "print('codewords ', end='')\n",
    "print(coding.codeword)"
   ]
  },
  {
   "cell_type": "markdown",
   "metadata": {},
   "source": [
    "少し複雑になりましたが、今回のルールでは受け取った文字列を左から順に見ていきます。\n",
    "\n",
    "- それをCode.stackに入れていくんですけど、\n",
    "- １０と００の時は、確定でa, bに対応するのでそのまま変換します。\n",
    "- ただ、１１の時だけ、cなのかdなのかわかりません。\n",
    "- なので、一先ず、cと解釈します。d出会った場合にはどこかで01の並びになるか終端が0になるはずです。\n",
    "- そのときに一番手前(解釈したうちの一番最後)のcがdだったことがわかるので、そう変換しています。\n",
    "- 終端が0になったときに気づくように\"/\"を足して、終端がどこかわかるようにしています。"
   ]
  },
  {
   "cell_type": "markdown",
   "metadata": {
    "collapsed": true
   },
   "source": [
    "<span style=\"margin-left:8px; padding:6px 10px; background:#ff9933; color:#ffffff; font-weight:bold;border-radius:5px;-webkit-border-radius:5px;-moz-border-radius:5px;\">１.１１</span>"
   ]
  },
  {
   "cell_type": "code",
   "execution_count": 28,
   "metadata": {
    "collapsed": false
   },
   "outputs": [
    {
     "name": "stdout",
     "output_type": "stream",
     "text": [
      "alphabet size 4\n",
      "symbol_1> a\n",
      "codeword_1: 0\n",
      "symbol_2> b\n",
      "codeword_2: 01\n",
      "symbol_3> c\n",
      "codeword_3: 001\n",
      "symbol_4> d\n",
      "codeword_4: 0001\n",
      "symbols> ababababaaa\n",
      "codewords 001001001001000\n"
     ]
    }
   ],
   "source": [
    "class Code():\n",
    "    def __init__(self, symbol, codeword):\n",
    "        self.symbol = symbol\n",
    "        self.codeword = str(codeword)\n",
    "    # symbolをtableを用いてcodewordに変換\n",
    "    def encode(self, table):\n",
    "        for i, v in enumerate(self.symbol):\n",
    "            self.codeword = self.codeword.replace(self.symbol[i], table[i])\n",
    "        \n",
    "print('alphabet size ', end='')\n",
    "N = int(input())\n",
    "\n",
    "syms = list(); table = list()\n",
    "for i in range(N):\n",
    "    print('symbol_{}> '.format(i+1), end='')\n",
    "    syms.append(str(input()))\n",
    "    print('codeword_{}: '.format(i+1), end='')\n",
    "    table.append(str(input()))\n",
    "\n",
    "print('symbols> ', end='')\n",
    "codeword = str(input())\n",
    "\n",
    "# 受け取ったsymsとcodewordをインスタンスに代入\n",
    "coding = Code(syms, codeword)\n",
    "coding.encode(table)\n",
    "print('codewords ', end='')\n",
    "print(coding.codeword)"
   ]
  },
  {
   "cell_type": "markdown",
   "metadata": {},
   "source": [
    "受け取った規則に合わせてReplaceしています。\n",
    "symbol => codeは組み合わせが一意に定まるので、特に工夫の必要はありませんでした。"
   ]
  },
  {
   "cell_type": "markdown",
   "metadata": {},
   "source": [
    "<span style=\"margin-left:8px; padding:6px 10px; background:#ff9933; color:#ffffff; font-weight:bold;border-radius:5px;-webkit-border-radius:5px;-moz-border-radius:5px;\">１.１２</span>"
   ]
  },
  {
   "cell_type": "code",
   "execution_count": 4,
   "metadata": {
    "collapsed": false
   },
   "outputs": [
    {
     "name": "stdout",
     "output_type": "stream",
     "text": [
      "alphabet size 3\n",
      "symbol_1> a\n",
      "codeword_1: 1\n",
      "symbol_2> b\n",
      "codeword_2: 01\n",
      "symbol_3> c\n",
      "codeword_3: 00\n",
      "codewords> 10100101\n",
      "symbols abcab\n"
     ]
    }
   ],
   "source": [
    "# 変換用のテーブルを用意　syms<=>codeの関係\n",
    "class Table():\n",
    "    def __init__(self, syms, code):\n",
    "        self.syms = syms\n",
    "        self.code = code\n",
    "        \n",
    "    def __len__(self):\n",
    "        return len(self.syms)\n",
    "# おきまりのクラス\n",
    "class Code():\n",
    "    def __init__(self, symbol, codeword, stack=\"\"):\n",
    "        self.symbol = symbol\n",
    "        self.codeword = str(codeword)\n",
    "        self.stack = stack\n",
    "        \n",
    "    def decode(self, table):\n",
    "        # 左からself.stackに代入していき、マッチしたら置き換えている。\n",
    "        for c in self.codeword:\n",
    "            self.stack += c\n",
    "            for i in range(len(table)):\n",
    "                if self.stack == table.code[i]:\n",
    "                    self.symbol = self.symbol + table.syms[i]\n",
    "                    self.stack = \"\"\n",
    "        \n",
    "print('alphabet size ', end='')\n",
    "N = int(input())\n",
    "\n",
    "syms = list(); code = list()\n",
    "for i in range(N):\n",
    "    print('symbol_{}> '.format(i+1), end='')\n",
    "    syms.append(str(input()))\n",
    "    print('codeword_{}: '.format(i+1), end='')\n",
    "    code.append(str(input()))\n",
    "\n",
    "print('codewords> ', end='')\n",
    "codeword = str(input())\n",
    "\n",
    "table = Table(syms, code)\n",
    "coding = Code(\"\", codeword)\n",
    "\n",
    "coding.decode(table)\n",
    "print('symbols ', end='')\n",
    "print(coding.symbol)"
   ]
  },
  {
   "cell_type": "markdown",
   "metadata": {},
   "source": [
    "１.１２のコードがあまりにも汚かったので、Tableクラスを作りました。\n",
    "そのインスタンスには、変換前と後の配列を持たせています。\n",
    "\n",
    "- このインスタンスを用いて、\n",
    "- Code.decode（）では、左から順にCode.stackに格納して\n",
    "- それがTable.codeと一致した瞬間に文字列を置き換えてcode.symbolに入れています。\n",
    "- 読み終えたら、code.symbolの方を表示しています。"
   ]
  },
  {
   "cell_type": "markdown",
   "metadata": {
    "collapsed": true
   },
   "source": [
    "<span style=\"margin-left:8px; padding:6px 10px; background:#ff9933; color:#ffffff; font-weight:bold;border-radius:5px;-webkit-border-radius:5px;-moz-border-radius:5px;\">１.１３</span>"
   ]
  },
  {
   "cell_type": "code",
   "execution_count": null,
   "metadata": {
    "collapsed": true
   },
   "outputs": [],
   "source": []
  },
  {
   "cell_type": "markdown",
   "metadata": {
    "collapsed": true
   },
   "source": [
    "<span style=\"margin-left:8px; padding:6px 10px; background:#ff9933; color:#ffffff; font-weight:bold;border-radius:5px;-webkit-border-radius:5px;-moz-border-radius:5px;\">１.１４</span>"
   ]
  },
  {
   "cell_type": "code",
   "execution_count": 5,
   "metadata": {
    "collapsed": false
   },
   "outputs": [
    {
     "name": "stdout",
     "output_type": "stream",
     "text": [
      "num of things> 4\n",
      "p_1> 0.3\n",
      "p_2> 0.4\n",
      "p_3> 0.1\n",
      "p_4> 0.2\n",
      "question: xは [1, 4]に含まれますか\n",
      "answer: y\n",
      "question: xは [4]に含まれますか\n",
      "answer: n\n",
      "final answer: 1\n"
     ]
    }
   ],
   "source": [
    "import numpy as np\n",
    "import pandas as pd\n",
    "\n",
    "# 確率を半分に分けるときに使う計算用のクラス\n",
    "class Sack():\n",
    "    def __init__(self, a, b):\n",
    "        self.a = a\n",
    "        self.b = b\n",
    "        self.Aindex = list()\n",
    "        self.Bindex = list()\n",
    "        \n",
    "    def make_sack(self, df):\n",
    "        for i in range(len(df.probs.values)):\n",
    "            df_sorted = df.sort_values('probs', ascending=False)\n",
    "            if self.a >= self.b:\n",
    "                self.b += df_sorted.iloc[i].probs\n",
    "                self.Bindex.append(df_sorted.iloc[i].name)\n",
    "            else:\n",
    "                self.a += df_sorted.iloc[i].probs\n",
    "                sack.Aindex.append(df_sorted.iloc[i].name)\n",
    "    \n",
    "    def cleared(self):\n",
    "        self.a = 0\n",
    "        self.b = 0\n",
    "        self.Aindex = list()\n",
    "        self.Bindex = list()\n",
    "\n",
    "\n",
    "if __name__ == \"__main__\": \n",
    "    print('num of things> ', end='')\n",
    "    N = int(input())\n",
    "    probs = np.zeros(N)\n",
    "    for i in range(N):\n",
    "        print('p_{}> '.format(i+1), end='')\n",
    "        probs[i] = float(input())\n",
    "\n",
    "    df = pd.DataFrame(probs)\n",
    "    df.columns = ['probs']\n",
    "    df.index += 1\n",
    "    \n",
    "    sack = Sack(0, 0)\n",
    "    while(1+1==2):\n",
    "        sack.make_sack(df)\n",
    "        print('question: xは '+ str(sack.Aindex) +'に含まれますか')\n",
    "        print('answer: ', end='')\n",
    "        ans = str(input())\n",
    "        if ans == 'y':\n",
    "            df = df.drop(sack.Bindex)\n",
    "        elif ans == 'n':\n",
    "            df = df.drop(sack.Aindex)\n",
    "            sack.Aindex = sack.Bindex\n",
    "        else:\n",
    "            print('Input y or n')\n",
    "            \n",
    "        if len(sack.Aindex) == 1:\n",
    "            print('final answer: '+str(sack.Aindex[0]))\n",
    "            break\n",
    "        else:\n",
    "            sack.cleared()\n",
    "        "
   ]
  },
  {
   "cell_type": "markdown",
   "metadata": {
    "collapsed": false
   },
   "source": []
  },
  {
   "cell_type": "code",
   "execution_count": null,
   "metadata": {
    "collapsed": false
   },
   "outputs": [],
   "source": []
  },
  {
   "cell_type": "code",
   "execution_count": null,
   "metadata": {
    "collapsed": false
   },
   "outputs": [],
   "source": []
  },
  {
   "cell_type": "code",
   "execution_count": null,
   "metadata": {
    "collapsed": false
   },
   "outputs": [],
   "source": []
  },
  {
   "cell_type": "code",
   "execution_count": null,
   "metadata": {
    "collapsed": false
   },
   "outputs": [],
   "source": []
  },
  {
   "cell_type": "code",
   "execution_count": 31,
   "metadata": {
    "collapsed": true
   },
   "outputs": [],
   "source": [
    "from IPython.core.debugger import Pdb; \n",
    "Pdb().set_trace()"
   ]
  },
  {
   "cell_type": "code",
   "execution_count": null,
   "metadata": {
    "collapsed": true
   },
   "outputs": [],
   "source": []
  }
 ],
 "metadata": {
  "kernelspec": {
   "display_name": "Python 3",
   "language": "python",
   "name": "python3"
  },
  "language_info": {
   "codemirror_mode": {
    "name": "ipython",
    "version": 3
   },
   "file_extension": ".py",
   "mimetype": "text/x-python",
   "name": "python",
   "nbconvert_exporter": "python",
   "pygments_lexer": "ipython3",
   "version": "3.5.3"
  }
 },
 "nbformat": 4,
 "nbformat_minor": 2
}

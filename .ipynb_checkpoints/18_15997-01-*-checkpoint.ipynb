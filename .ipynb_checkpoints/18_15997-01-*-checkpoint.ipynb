{
 "cells": [
  {
   "cell_type": "markdown",
   "metadata": {},
   "source": [
    "## 情報通信実験2 課題1\n",
    "山田遼太\n",
    "\n",
    "18B15997\n",
    "\n",
    "情報通信実験2 (ICT.E218)\n",
    "\n",
    "##### 協力者\n",
    "- 栢之間諒汰\n",
    "\n",
    "#### 注意事項\n",
    "- 正しくプログラムが動作しない、解答がどの問題に対応するか分からない、などの不備がございましたら、文脈上もっとも尤もらしい修正を施して採点していただけますと幸いです。\n",
    "- プログラムに対するコメントはプログラムの下にも記述しています。クラスや関数がどのような役割で、処理の難所に関してはどのように処理しているかについても言及しています。\n",
    "- 課題で要求された出力結果が提出された.ipynbに入っています。そのセルを実行するとその出力結果が消えてしまうのでもしも採点基準に出力結果があるのであれば、セルを実行する前に確認してください。"
   ]
  },
  {
   "cell_type": "markdown",
   "metadata": {},
   "source": [
    "<div style=\"height:12px;\">\n",
    "<span style=\"margin-left:8px; padding:6px 10px; background:#ff9933; color:#ffffff; font-weight:bold;border-radius:5px;-webkit-border-radius:5px;-moz-border-radius:5px;\">１.１</span>\n",
    "</div>\n",
    "<div style=\"border:2px solid #ff9933; padding:25px 12px 10px; font-size:0.85em;border-radius:5px;-webkit-border-radius:5px;-moz-border-radius:5px;\">\n",
    "    <li>GIF　→ 画像圧縮、画像の透過、アニメーションなどに用いる</li>\n",
    "    <li>Huffyuv　→ 動画の圧縮に用いる</li>\n",
    "    <li>TTA→ 音声の圧縮に用いる</li>\n",
    "\n",
    "</div>"
   ]
  },
  {
   "cell_type": "markdown",
   "metadata": {},
   "source": [
    "<div style=\"height:12px;\">\n",
    "<span style=\"margin-left:8px; padding:6px 10px; background:#ff9933; color:#ffffff; font-weight:bold;border-radius:5px;-webkit-border-radius:5px;-moz-border-radius:5px;\">１.２</span>\n",
    "</div>\n",
    "<div style=\"border:2px solid #ff9933; padding:25px 12px 10px; font-size:0.85em;border-radius:5px;-webkit-border-radius:5px;-moz-border-radius:5px;\">\n",
    "    <li>MPEG-1→動画、音声を圧縮・伸張するときに用いる</li>\n",
    "    <li>VP8→動画圧縮に用いる。</li>\n",
    "    <li>Vorbis→音声圧縮に用いる。</li>\n",
    "</div>"
   ]
  },
  {
   "cell_type": "markdown",
   "metadata": {},
   "source": [
    "<div style=\"height:12px;\">\n",
    "<span style=\"margin-left:8px; padding:6px 10px; background:#ff9933; color:#ffffff; font-weight:bold;border-radius:5px;-webkit-border-radius:5px;-moz-border-radius:5px;\">１.３</span>\n",
    "</div>\n",
    "<div style=\"border:2px solid #ff9933; padding:25px 12px 10px; font-size:0.85em;border-radius:5px;-webkit-border-radius:5px;-moz-border-radius:5px;\">\n",
    "符号長は8\n",
    "</div>"
   ]
  },
  {
   "cell_type": "markdown",
   "metadata": {},
   "source": [
    "<div style=\"height:12px;\">\n",
    "<span style=\"margin-left:8px; padding:6px 10px; background:#ff9933; color:#ffffff; font-weight:bold;border-radius:5px;-webkit-border-radius:5px;-moz-border-radius:5px;\">１.４</span>\n",
    "</div>\n",
    "<div style=\"border:2px solid #ff9933; padding:25px 12px 10px; font-size:0.85em;border-radius:5px;-webkit-border-radius:5px;-moz-border-radius:5px;\">\n",
    "a:0\n",
    "b:10\n",
    "c:110\n",
    "d:1110\n",
    "e:1111\n",
    "</div>"
   ]
  },
  {
   "cell_type": "markdown",
   "metadata": {},
   "source": [
    "<span style=\"margin-left:8px; padding:6px 10px; background:#ff9933; color:#ffffff; font-weight:bold;border-radius:5px;-webkit-border-radius:5px;-moz-border-radius:5px;\">１.５</span>"
   ]
  },
  {
   "cell_type": "code",
   "execution_count": 28,
   "metadata": {
    "collapsed": false
   },
   "outputs": [
    {
     "name": "stdout",
     "output_type": "stream",
     "text": [
      "使いたい語頭符号の番号を入力3\n",
      "symbols abcabadcbddbadacbbaabbaccbacdd\n",
      "codewords 010110010011111010111111100111011010100010100110110100110111111\n"
     ]
    }
   ],
   "source": [
    "class Code():\n",
    "    def __init__(self, pattern, symbol, codeword):\n",
    "        self.pattern = pattern\n",
    "        self.symbol = symbol\n",
    "        self.codeword = codeword\n",
    "        \n",
    "    def encode(self):\n",
    "        if self.pattern == 1:\n",
    "            x = self.symbol.replace('a', '0')\n",
    "            self.codeword = x.replace('b', '1')\n",
    "        elif self.pattern == 2:\n",
    "            x = self.symbol.replace('a', '1')\n",
    "            x = x.replace('b', '01')\n",
    "            self.codeword = x.replace('c', '001')\n",
    "        elif self.pattern == 3:\n",
    "            x = self.symbol.replace('a', '0')\n",
    "            x = x.replace('b', '10')\n",
    "            x = x.replace('c', '110')\n",
    "            self.codeword = x.replace('d', '111')\n",
    "        return 0\n",
    "    \n",
    "    def decode(self):\n",
    "        if self.pattern == 1:\n",
    "            x = self.codeword.replace('1', 'b')\n",
    "            self.symbol = x.replace('0', 'a')\n",
    "        elif self.pattern == 2:\n",
    "            x = self.codeword.replace('001', 'c')\n",
    "            x = x.replace('01', 'b')\n",
    "            self.symbol = x.replace('1', 'a')\n",
    "        elif self.pattern == 3:\n",
    "            x = self.codeword.replace('111', 'd')\n",
    "            x = x.replace('110', 'c')\n",
    "            x = x.replace('10', 'b')\n",
    "            self.symbol = x.replace('0', 'a')\n",
    "        return 0\n",
    "\n",
    "\n",
    "print('使いたい語頭符号の番号を入力', end='')\n",
    "pattern = int(input())\n",
    "print('symbols ', end='')\n",
    "sym= str(input())\n",
    "\n",
    "coding = Code(pattern, sym, \"\")\n",
    "coding.encode()\n",
    "print('codewords ', end='')\n",
    "print(coding.codeword)"
   ]
  },
  {
   "cell_type": "markdown",
   "metadata": {},
   "source": [
    "使いたい語頭符号の番号を入力1  \n",
    "symbols bababaaabaaaaaaabaabbbbbbabaaa  \n",
    "codewords 101010001000000010011111101000  \n",
    "\n",
    "使いたい語頭符号の番号を入力2  \n",
    "symbols caaaaaacaacaaacbaacbbbccabbccb  \n",
    "codewords 0011111110011100111100101110010101010010011010100100101  \n",
    "\n",
    "使いたい語頭符号の番号を入力3  \n",
    "symbols abcabadcbddbadacbbaabbaccbacdd  \n",
    "codewords 010110010011111010111111100111011010100010100110110100110111111  \n",
    "\n",
    "Codeクラスのメソッドのencode()のなかで、エンコード\n",
    "\n",
    "- 処理自体は、symbolを条件毎にreplaceしたものを作っている\n",
    "- それをcodewordに代入して表示している"
   ]
  },
  {
   "cell_type": "markdown",
   "metadata": {},
   "source": [
    "<span style=\"margin-left:8px; padding:6px 10px; background:#ff9933; color:#ffffff; font-weight:bold;border-radius:5px;-webkit-border-radius:5px;-moz-border-radius:5px;\">１.６</span>"
   ]
  },
  {
   "cell_type": "code",
   "execution_count": 31,
   "metadata": {
    "collapsed": false
   },
   "outputs": [
    {
     "name": "stdout",
     "output_type": "stream",
     "text": [
      "使いたい語頭符号の番号を入力3\n",
      "codewords 1011110110111111100011011010\n",
      "symbols bdbcddbaaccb\n"
     ]
    }
   ],
   "source": [
    "class Code():\n",
    "    def __init__(self, pattern, symbol, codeword):\n",
    "        self.pattern = pattern\n",
    "        self.symbol = symbol\n",
    "        self.codeword = codeword\n",
    "        \n",
    "    def encode(self):\n",
    "        if self.pattern == 1:\n",
    "            x = self.symbol.replace('a', '0')\n",
    "            self.codeword = x.replace('b', '1')\n",
    "        elif self.pattern == 2:\n",
    "            x = self.symbol.replace('a', '1')\n",
    "            x = x.replace('b', '01')\n",
    "            self.codeword = x.replace('c', '001')\n",
    "        elif self.pattern == 3:\n",
    "            x = self.symbol.replace('a', '0')\n",
    "            x = x.replace('b', '10')\n",
    "            x = x.replace('c', '110')\n",
    "            self.codeword = x.replace('d', '111')\n",
    "        return 0\n",
    "    \n",
    "    def decode(self):\n",
    "        if self.pattern == 1:\n",
    "            x = self.codeword.replace('1', 'b')\n",
    "            self.symbol = x.replace('0', 'a')\n",
    "        elif self.pattern == 2:\n",
    "            x = self.codeword.replace('001', 'c')\n",
    "            x = x.replace('01', 'b')\n",
    "            self.symbol = x.replace('1', 'a')\n",
    "        elif self.pattern == 3:\n",
    "            x = self.codeword.replace('111', 'd')\n",
    "            x = x.replace('110', 'c')\n",
    "            x = x.replace('10', 'b')\n",
    "            self.symbol = x.replace('0', 'a')\n",
    "        return 0\n",
    "\n",
    "\n",
    "print('使いたい語頭符号の番号を入力', end='')\n",
    "pattern = int(input())\n",
    "print('codewords ', end='')\n",
    "codew= str(input())\n",
    "\n",
    "coding = Code(pattern, \"\", codew)\n",
    "coding.decode()\n",
    "print('symbols ', end='')\n",
    "print(coding.symbol)"
   ]
  },
  {
   "cell_type": "markdown",
   "metadata": {},
   "source": [
    "使いたい語頭符号の番号を入力1  \n",
    "codewords 111111010001001111111111101001  \n",
    "symbols bbbbbbabaaabaabbbbbbbbbbbabaab  \n",
    "\n",
    "使いたい語頭符号の番号を入力2  \n",
    "codewords 0011100110101001100110010011001  \n",
    "symbols caacabbcacaccac  \n",
    "\n",
    "使いたい語頭符号の番号を入力3  \n",
    "codewords 1011110110111111100011011010  \n",
    "symbols bdbcddbaaccb  \n",
    "\n",
    "Codeクラスのメソッドのdecode()のなかで、デコード\n",
    "\n",
    "- 処理自体は、codewordを条件毎にreplaceし\n",
    "- symbolに代入して表示している。"
   ]
  },
  {
   "cell_type": "markdown",
   "metadata": {
    "collapsed": true
   },
   "source": [
    "<span style=\"margin-left:8px; padding:6px 10px; background:#ff9933; color:#ffffff; font-weight:bold;border-radius:5px;-webkit-border-radius:5px;-moz-border-radius:5px;\">１.７</span>"
   ]
  },
  {
   "cell_type": "code",
   "execution_count": 33,
   "metadata": {
    "collapsed": false
   },
   "outputs": [
    {
     "name": "stdout",
     "output_type": "stream",
     "text": [
      "alphabet size 6\n",
      "l_1> 1\n",
      "l_2> 2\n",
      "l_3> 4\n",
      "l_4> 8\n",
      "l_5> 16\n",
      "l_6> 32\n",
      "cw for l_1:0\n",
      "cw for l_2:10\n",
      "cw for l_3:1100\n",
      "cw for l_4:11010000\n",
      "cw for l_5:1101000100000000\n",
      "cw for l_6:11010001000000010000000000000000\n"
     ]
    }
   ],
   "source": [
    "import numpy as np\n",
    "\n",
    "# 10進数をn進数に変換\n",
    "def Base_10_to_n(X, n):\n",
    "    if (int(X/n)):\n",
    "        return Base_10_to_n(int(X/n), n)+str(X%n)\n",
    "    return str(X%n)\n",
    "\n",
    "\n",
    "def digit_plus(code, short, maxi):\n",
    "    return code + 2**(maxi - short)\n",
    "\n",
    "def make_code(code, short, maxi):\n",
    "    return int(code / 2**(maxi - short))\n",
    "\n",
    "\n",
    "def make_tree(lengths, codes):\n",
    "    # 符号語の長さに合わせて語頭符号を作る\n",
    "    # 二進数で考えたときに、1足すと、そこで0->1となるため、語頭符号であることが保証される。\n",
    "    # その二進数の性質を用いている\n",
    "    # max_lengthは求められた符号語の中で一番長いもの\n",
    "    # それと今欲しい符号長との差の長さだけ離れたところに1を足すことを考えて繰り返す。\n",
    "    max_lengths = max(lengths)\n",
    "    for i in range(len(lengths) - 1):\n",
    "        codes[i + 1] = digit_plus(codes[i], lengths[i], max_lengths)\n",
    "        \n",
    "    #codes自体は１０進数で表現されている\n",
    "    for i in range(len(lengths)):\n",
    "        codes[i] = make_code(codes[i], lengths[i], max_lengths)\n",
    "    return codes\n",
    "\n",
    "if __name__ == \"__main__\":\n",
    "    print('alphabet size ', end='')\n",
    "    N = int(input())\n",
    "\n",
    "    lengths = list()\n",
    "    for i in range(N):\n",
    "        print('l_{}> '.format(i+1), end='')\n",
    "        lengths.append(int(input()))\n",
    "\n",
    "    # 今欲しい符号語を入れるための配列code\n",
    "    codes = [0]*(len(lengths))\n",
    "    codes = make_tree(lengths, codes)\n",
    "    \n",
    "    codelist = list()\n",
    "    for v in codes:\n",
    "        codelist.append(Base_10_to_n(v, 2))\n",
    "    \n",
    "    # 後から気が付いたのだが二進数に単純に変換すると0010となって欲しいものが\n",
    "    # 0から始まる数字がないために10となってしまうので帳尻合わせをしていく。\n",
    "    # 求めたい長さとの差分だけ上から０でパディングしておきます。\n",
    "    for i, v in enumerate(codelist):\n",
    "            codelist[i] = \"0\" * (lengths[i] - len(v)) + v\n",
    "            \n",
    "\n",
    "    for i in range(len(lengths)):\n",
    "        print('cw for l_{}:'.format(i+1) + str(codelist[i]))"
   ]
  },
  {
   "cell_type": "code",
   "execution_count": null,
   "metadata": {
    "collapsed": false
   },
   "outputs": [],
   "source": []
  },
  {
   "cell_type": "markdown",
   "metadata": {},
   "source": [
    "<span style=\"margin-left:8px; padding:6px 10px; background:#ff9933; color:#ffffff; font-weight:bold;border-radius:5px;-webkit-border-radius:5px;-moz-border-radius:5px;\">１.８</span>"
   ]
  },
  {
   "cell_type": "code",
   "execution_count": 37,
   "metadata": {
    "collapsed": false
   },
   "outputs": [
    {
     "name": "stdout",
     "output_type": "stream",
     "text": [
      "alphabet size 8\n",
      "p_1> 0.261\n",
      "p_2> 0.241\n",
      "p_3> 0.152\n",
      "p_4> 0.131\n",
      "p_5> 0.115\n",
      "p_6> 0.064\n",
      "p_7> 0.034\n",
      "p_8> 0.002\n",
      "cw for l_1:00\n",
      "cw for l_2:010\n",
      "cw for l_3:011\n",
      "cw for l_4:100\n",
      "cw for l_5:1010\n",
      "cw for l_6:1011\n",
      "cw for l_7:11000\n",
      "cw for l_8:110010000\n",
      "entropy: \n",
      "2.5942260018199805\n",
      "average_length\n",
      "2.998\n"
     ]
    }
   ],
   "source": [
    "import numpy as np\n",
    "from math import log2\n",
    "\n",
    "# 10進数をn進数に変換\n",
    "def Base_10_to_n(X, n):\n",
    "    if (int(X/n)):\n",
    "        return Base_10_to_n(int(X/n), n)+str(X%n)\n",
    "    return str(X%n)\n",
    "\n",
    "\n",
    "def digit_plus(code, short, maxi):\n",
    "    return code + 2**(maxi - short)\n",
    "\n",
    "def make_code(code, short, maxi):\n",
    "    return int(code / 2**(maxi - short))\n",
    "\n",
    "def H(lst):\n",
    "    return -sum([x*log2(x) if x != 0 else 0 for x in lst])\n",
    "\n",
    "def make_tree(lengths, codes):\n",
    "    # 符号語の長さに合わせて語頭符号を作る\n",
    "    # 二進数で考えたときに、1足すと、そこで0->1となるため、語頭符号であることが保証される。\n",
    "    # その二進数の性質を用いている\n",
    "    # max_lengthは求められた符号語の中で一番長いもの\n",
    "    # それと今欲しい符号長との差の長さだけ離れたところに1を足すことを考えて繰り返す。\n",
    "    max_lengths = max(lengths)\n",
    "    for i in range(len(lengths) - 1):\n",
    "        codes[i + 1] = digit_plus(codes[i], lengths[i], max_lengths)\n",
    "        \n",
    "    #codes自体は１０進数で表現されている\n",
    "    for i in range(len(lengths)):\n",
    "        codes[i] = make_code(codes[i], lengths[i], max_lengths)\n",
    "    return codes\n",
    "\n",
    "if __name__ == \"__main__\":\n",
    "    print('alphabet size ', end='')\n",
    "    N = int(input())\n",
    "\n",
    "    probs = list()\n",
    "    for i in range(N):\n",
    "        print('p_{}> '.format(i+1), end='')\n",
    "        probs.append(float(input()))\n",
    "\n",
    "    # シャノン符号の性質から、lengthsを出すことによってクラフトの不等式の語頭符号問題に置き換えられる\n",
    "    # shannon符号では累積出現確率がそのまま表現になる\n",
    "    lengths = np.ceil(-np.log2(np.array(probs)))\n",
    "\n",
    "    # 今欲しい符号語を入れるための配列code\n",
    "    codes = [0]*(len(lengths))\n",
    "    codes = make_tree(lengths, codes)\n",
    "    \n",
    "    codelist = list()\n",
    "    for v in codes:\n",
    "        codelist.append(Base_10_to_n(v, 2))\n",
    "    \n",
    "    for i, v in enumerate(codelist):\n",
    "            codelist[i] = \"0\" * (int(lengths[i]) - len(v)) + str(v)\n",
    "\n",
    "    for i in range(len(lengths)):\n",
    "        print('cw for l_{}:'.format(i+1) + str(codelist[i]))\n",
    "        \n",
    "    print('entropy: ')\n",
    "    print(H(probs))\n",
    "    print('average_length')\n",
    "    print(np.dot(np.array([len(l) for l in codelist]), np.sort(np.array(probs))[::-1].T))"
   ]
  },
  {
   "cell_type": "code",
   "execution_count": null,
   "metadata": {
    "collapsed": true
   },
   "outputs": [],
   "source": []
  },
  {
   "cell_type": "markdown",
   "metadata": {},
   "source": [
    "<span style=\"margin-left:8px; padding:6px 10px; background:#ff9933; color:#ffffff; font-weight:bold;border-radius:5px;-webkit-border-radius:5px;-moz-border-radius:5px;\">１.９</span>"
   ]
  },
  {
   "cell_type": "code",
   "execution_count": 38,
   "metadata": {
    "collapsed": false
   },
   "outputs": [],
   "source": [
    "from heapq import *\n",
    "from math import log2\n",
    "from statistics import mean\n",
    "import pprint\n",
    "import numpy as np\n",
    "\n",
    "class Node(object):\n",
    "    def __init__(self, value, prob, left=None, right=None):\n",
    "        self.value = value\n",
    "        self.left = left\n",
    "        self.right = right\n",
    "        self.prob = prob\n",
    "\n",
    "    def setChildren(self, l, r):\n",
    "        self.left = l\n",
    "        self.right = r\n",
    "\n",
    "    def __repr__(self):\n",
    "        return \"%s -- %s -- %s _ %s\" % (self.value, self.prob, self.left, self.right)\n",
    "\n",
    "    def __cmp__(self, a):\n",
    "        return cmp(self.prob, a.prob)\n",
    "    # heap木でnode同士を比較するのでそれ用\n",
    "    def __lt__(self,other):\n",
    "            return (self.prob) < (other.prob)\n",
    "codes = {}\n",
    "\n",
    "\n",
    "def create_tree(node):\n",
    "    # len　nodeが１になるまで回す。\n",
    "    while len(node) > 1:\n",
    "        # 確率の小さい方から二つを取り出す。heap木の利用。\n",
    "        # 確率の小さいものほど下になるようにしている。\n",
    "        l = heappop(node)\n",
    "        r = heappop(node)\n",
    "        # 取り出したやつの親のノードのコンストラクタを呼ぶ\n",
    "        above = Node(None, r.prob + l.prob)\n",
    "        above.setChildren(l, r)\n",
    "        heappush(node, above)\n",
    "\n",
    "def make_code(s, node):\n",
    "    # sに文字列を完成させていく。\n",
    "    # valueがあるのは葉だけ。\n",
    "    if node.value:\n",
    "        if not s:\n",
    "            codes[node.value] = \"0\"\n",
    "        else:\n",
    "            codes[node.value] = s\n",
    "    else:\n",
    "        make_code(s+\"0\", node.left)\n",
    "        make_code(s+\"1\", node.right)\n",
    "\n",
    "# adapter\n",
    "def huffman(syms, probs):\n",
    "    # key=sym, value=probsの連想配列に変換してからNodeクラスの要素に入れる\n",
    "    dic = {key: val for key, val in zip(syms, probs)}\n",
    "    # nodesは葉の数だけできる。まだsetChildrenはしていない。\n",
    "    nodes = [Node(s, p) for (s, p) in dic.items()]\n",
    "\n",
    "    \n",
    "    heapify(nodes)\n",
    "    # 作ったnodeをcreate_treeへ\n",
    "    create_tree(nodes)\n",
    "    return make_code(\"\", nodes[0])\n",
    "\n",
    "def H(lst):\n",
    "    return -sum([x*log2(x) if x != 0 else 0 for x in lst])\n",
    "\n",
    "\n"
   ]
  },
  {
   "cell_type": "code",
   "execution_count": 40,
   "metadata": {
    "collapsed": false
   },
   "outputs": [
    {
     "name": "stdout",
     "output_type": "stream",
     "text": [
      "alphabet␣size>␣\n",
      "27\n",
      "symbol_1> a\n",
      "p_1> 0.1571\n",
      "symbol_2> b\n",
      "p_2> 0.1524\n",
      "symbol_3> c\n",
      "p_3> 0.1386\n",
      "symbol_4> d\n",
      "p_4> 0.127\n",
      "symbol_5> e\n",
      "p_5> 0.1040\n",
      "symbol_6> f\n",
      "p_6> 0.0912\n",
      "symbol_7> g\n",
      "p_7> 0.0657\n",
      "symbol_8> h\n",
      "p_8> 0.0564\n",
      "symbol_9> i\n",
      "p_9> 0.0345\n",
      "symbol_10> j\n",
      "p_10> 0.0301\n",
      "symbol_11> k\n",
      "p_11> 0.0148\n",
      "symbol_12> l\n",
      "p_12> 0.0138\n",
      "symbol_13> m\n",
      "p_13> 0.0054\n",
      "symbol_14> n\n",
      "p_14> 0.005\n",
      "symbol_15> o\n",
      "p_15> 0.0018\n",
      "symbol_16> p\n",
      "p_16> 0.0012\n",
      "symbol_17> q\n",
      "p_17> 0.0005\n",
      "symbol_18> r\n",
      "p_18> 0.0002\n",
      "symbol_19> s\n",
      "p_19> 0.0001\n",
      "symbol_20> t\n",
      "p_20> 0.00008\n",
      "symbol_21> u\n",
      "p_21> 0.00007\n",
      "symbol_22> v\n",
      "p_22> 0.00003\n",
      "symbol_23> w\n",
      "p_23> 0.00001\n",
      "symbol_24> x\n",
      "p_24> 0.000004\n",
      "symbol_25> y\n",
      "p_25> 0.000003\n",
      "symbol_26> z\n",
      "p_26> 0.000002\n",
      "symbol_27> ␣_\n",
      "p_27> 0.000001\n",
      "cw␣for␣\n",
      "{'a': '111',\n",
      " 'b': '110',\n",
      " 'c': '101',\n",
      " 'd': '011',\n",
      " 'e': '010',\n",
      " 'f': '000',\n",
      " 'g': '1001',\n",
      " 'h': '0011',\n",
      " 'i': '10001',\n",
      " 'j': '10000',\n",
      " 'k': '00100',\n",
      " 'l': '001010',\n",
      " 'm': '0010110',\n",
      " 'n': '00101111',\n",
      " 'o': '001011100',\n",
      " 'p': '0010111011',\n",
      " 'q': '00101110100',\n",
      " 'r': '001011101010',\n",
      " 's': '00101110101111',\n",
      " 't': '00101110101110',\n",
      " 'u': '00101110101101',\n",
      " 'v': '001011101011001',\n",
      " 'w': '0010111010110001',\n",
      " 'x': '00101110101100000',\n",
      " 'y': '001011101011000010',\n",
      " 'z': '0010111010110000111',\n",
      " '␣_': '0010111010110000110'}\n",
      "entropy: \n",
      "3.36707051829514\n",
      "average_length\n",
      "7.952254\n"
     ]
    }
   ],
   "source": [
    "if __name__ == \"__main__\": \n",
    "    print('alphabet␣size>␣')\n",
    "    N = int(input())\n",
    "    syms = list()\n",
    "    probs = list()\n",
    "    for i in range(N):\n",
    "        print('symbol_{}> '.format(i+1), end='')\n",
    "        syms.append(str(input()))\n",
    "        print('p_{}> '.format(i+1), end='')\n",
    "        probs.append(float(input()))\n",
    "    \n",
    "    huffman(syms, probs)\n",
    "    print(\"cw␣for␣\")\n",
    "    pprint.pprint(codes, width=1)\n",
    "    print('entropy: ')\n",
    "    print(H(probs))\n",
    "    print('average_length')\n",
    "    print(np.dot(np.array([len(l) for l in codes.values()]), np.sort(np.array(probs))[::-1].T))"
   ]
  },
  {
   "cell_type": "markdown",
   "metadata": {},
   "source": [
    "# 処理の流れ\n",
    "- huffmanが呼ばれる。これがクリーンアーキテクチャとかで言われるところの*adapter*的な役割\n",
    "##### huffman()\n",
    "- dic = {key: val for key, val in zip(syms, probs)};nodes = [Node(s, p) for (s, p) in dic.items()]\n",
    "    - ここで、Nodeクラスに信号と確率を代入していきます。\n",
    "    - この時点で、葉がに対応するNodeが出来上がります。まだ枝では繋がっていません。\n",
    "- heapify(nodes)\n",
    "    - heap木に入れています。この比較条件は、probで比較しています。（__lt__()で定義）\n",
    "- create_tree(nodes)\n",
    "    - ここで実際に枝を作っていきます。\n",
    "    - 内部で行なっている処理は、nodeを確率の小さいものから順に２つheapから取り出してきて(heappop)\n",
    "    - その２つの親のNodeを定義して、setChildで枝を作ってくっつけています。\n",
    "    - それを全ての枝だけ続けています。\n",
    "- return make_code(\"\", nodes[0])\n",
    "    - create_treeで作った木を再帰的に呼び出すことで順にcodesに代入しています。\n"
   ]
  },
  {
   "cell_type": "code",
   "execution_count": null,
   "metadata": {
    "collapsed": true
   },
   "outputs": [],
   "source": []
  },
  {
   "cell_type": "markdown",
   "metadata": {
    "collapsed": true
   },
   "source": [
    "<span style=\"margin-left:8px; padding:6px 10px; background:#ff9933; color:#ffffff; font-weight:bold;border-radius:5px;-webkit-border-radius:5px;-moz-border-radius:5px;\">１.１０</span>"
   ]
  },
  {
   "cell_type": "code",
   "execution_count": 41,
   "metadata": {
    "collapsed": false
   },
   "outputs": [],
   "source": [
    "class Code():\n",
    "    def __init__(self, symbol, codeword, stack):\n",
    "        self.symbol = str(symbol) + \"/\"\n",
    "        self.codeword = codeword\n",
    "        self.stack = stack\n",
    "        \n",
    "    def decode(self):\n",
    "        for c in self.symbol:\n",
    "            self.stack += str(c)\n",
    "            if self.stack == \"10\":\n",
    "                self.codeword += \"a\"\n",
    "                self.stack = \"\"\n",
    "            elif self.stack == \"00\":\n",
    "                self.codeword += \"b\"\n",
    "                self.stack = \"\"\n",
    "            elif self.stack == \"11\":\n",
    "                self.codeword += \"c\"\n",
    "                self.stack = \"\"\n",
    "            elif self.stack == \"01\"or  self.stack == \"0/\" :\n",
    "                m = self.codeword.rfind(\"c\")\n",
    "                self.codeword = self.codeword[:m] + \"d\" + self.codeword[m+1:]\n",
    "                self.stack = \"1\"\n"
   ]
  },
  {
   "cell_type": "code",
   "execution_count": 42,
   "metadata": {
    "collapsed": false
   },
   "outputs": [
    {
     "name": "stdout",
     "output_type": "stream",
     "text": [
      "symbols 10001101011101101000110101000110101110110100011010\n",
      "codewords abdacadabdaabdacadabda\n"
     ]
    }
   ],
   "source": [
    "print('symbols ', end='')\n",
    "sym= str(input())\n",
    "\n",
    "coding = Code(sym, \"\", \"\")\n",
    "coding.decode()\n",
    "print('codewords ', end='')\n",
    "print(coding.codeword)"
   ]
  },
  {
   "cell_type": "markdown",
   "metadata": {},
   "source": [
    "少し複雑になりましたが、今回のルールでは受け取った文字列を左から順に見ていきます。\n",
    "\n",
    "- それをCode.stackに入れていくんですけど、\n",
    "- １０と００の時は、確定でa, bに対応するのでそのまま変換します。\n",
    "- ただ、１１の時だけ、cなのかdなのかわかりません。\n",
    "- なので、一先ず、cと解釈します。d出会った場合にはどこかで01の並びになるか終端が0になるはずです。\n",
    "- そのときに一番手前(解釈したうちの一番最後)のcがdだったことがわかるので、そう変換しています。\n",
    "- 終端が0になったときに気づくように\"/\"を足して、終端がどこかわかるようにしています。"
   ]
  },
  {
   "cell_type": "markdown",
   "metadata": {
    "collapsed": true
   },
   "source": [
    "<span style=\"margin-left:8px; padding:6px 10px; background:#ff9933; color:#ffffff; font-weight:bold;border-radius:5px;-webkit-border-radius:5px;-moz-border-radius:5px;\">１.１１</span>"
   ]
  },
  {
   "cell_type": "code",
   "execution_count": 43,
   "metadata": {
    "collapsed": false
   },
   "outputs": [
    {
     "name": "stdout",
     "output_type": "stream",
     "text": [
      "alphabet size 4\n",
      "symbol_1> a\n",
      "codeword_1: 0011\n",
      "symbol_2> b\n",
      "codeword_2: 01110\n",
      "symbol_3> c\n",
      "codeword_3: 1\n",
      "symbol_4> d\n",
      "codeword_4: 0010\n",
      "symbols> abcabadcbddbadacbbaabbaccbacdd\n",
      "codewords 001101110100110111000110010101110001000100111000110010001110111001110001100110111001110001111011100011100100010\n"
     ]
    }
   ],
   "source": [
    "class Code():\n",
    "    def __init__(self, symbol, codeword):\n",
    "        self.symbol = symbol\n",
    "        self.codeword = str(codeword)\n",
    "    # symbolをtableを用いてcodewordに変換\n",
    "    def encode(self, table):\n",
    "        for i, v in enumerate(self.symbol):\n",
    "            self.codeword = self.codeword.replace(self.symbol[i], table[i])\n",
    "        \n",
    "print('alphabet size ', end='')\n",
    "N = int(input())\n",
    "\n",
    "syms = list(); table = list()\n",
    "for i in range(N):\n",
    "    print('symbol_{}> '.format(i+1), end='')\n",
    "    syms.append(str(input()))\n",
    "    print('codeword_{}: '.format(i+1), end='')\n",
    "    table.append(str(input()))\n",
    "\n",
    "print('symbols> ', end='')\n",
    "codeword = str(input())\n",
    "\n",
    "# 受け取ったsymsとcodewordをインスタンスに代入\n",
    "coding = Code(syms, codeword)\n",
    "coding.encode(table)\n",
    "print('codewords ', end='')\n",
    "print(coding.codeword)"
   ]
  },
  {
   "cell_type": "markdown",
   "metadata": {},
   "source": [
    "受け取った規則に合わせてReplaceしています。\n",
    "symbol => codeは組み合わせが一意に定まるので、特に工夫の必要はありませんでした。"
   ]
  },
  {
   "cell_type": "markdown",
   "metadata": {},
   "source": [
    "<span style=\"margin-left:8px; padding:6px 10px; background:#ff9933; color:#ffffff; font-weight:bold;border-radius:5px;-webkit-border-radius:5px;-moz-border-radius:5px;\">１.１２</span>"
   ]
  },
  {
   "cell_type": "code",
   "execution_count": 46,
   "metadata": {
    "collapsed": false
   },
   "outputs": [
    {
     "name": "stdout",
     "output_type": "stream",
     "text": [
      "alphabet size 4\n",
      "symbol_1> a\n",
      "codeword_1: 0011\n",
      "symbol_2> b\n",
      "codeword_2: 01110\n",
      "symbol_3> c\n",
      "codeword_3: 1\n",
      "symbol_4> d\n",
      "codeword_4: 0010\n",
      "codewords> 0011011100011001100110010011100010001010011011101001101110100101001100111100110011101110001100100111001110\n",
      "symbols abaaadbddcabcabcdcaaccaacbadbb\n"
     ]
    }
   ],
   "source": [
    "# 変換用のテーブルを用意　syms<=>codeの関係\n",
    "class Table():\n",
    "    def __init__(self, syms, code):\n",
    "        self.syms = syms\n",
    "        self.code = code\n",
    "        \n",
    "    def __len__(self):\n",
    "        return len(self.syms)\n",
    "# おきまりのクラス\n",
    "class Code():\n",
    "    def __init__(self, symbol, codeword, stack=\"\"):\n",
    "        self.symbol = symbol\n",
    "        self.codeword = str(codeword)\n",
    "        self.stack = stack\n",
    "        \n",
    "    def decode(self, table):\n",
    "        # 左からself.stackに代入していき、マッチしたら置き換えている。\n",
    "        for c in self.codeword:\n",
    "            self.stack += c\n",
    "            for i in range(len(table)):\n",
    "                if self.stack == table.code[i]:\n",
    "                    self.symbol = self.symbol + table.syms[i]\n",
    "                    self.stack = \"\"\n",
    "        \n",
    "print('alphabet size ', end='')\n",
    "N = int(input())\n",
    "\n",
    "syms = list(); code = list()\n",
    "for i in range(N):\n",
    "    print('symbol_{}> '.format(i+1), end='')\n",
    "    syms.append(str(input()))\n",
    "    print('codeword_{}: '.format(i+1), end='')\n",
    "    code.append(str(input()))\n",
    "\n",
    "print('codewords> ', end='')\n",
    "codeword = str(input())\n",
    "\n",
    "table = Table(syms, code)\n",
    "coding = Code(\"\", codeword)\n",
    "\n",
    "coding.decode(table)\n",
    "print('symbols ', end='')\n",
    "print(coding.symbol)"
   ]
  },
  {
   "cell_type": "code",
   "execution_count": null,
   "metadata": {
    "collapsed": true
   },
   "outputs": [],
   "source": []
  },
  {
   "cell_type": "markdown",
   "metadata": {},
   "source": [
    "１.１２のコードがあまりにも汚かったので、Tableクラスを作りました。\n",
    "そのインスタンスには、変換前と後の配列を持たせています。\n",
    "\n",
    "- このインスタンスを用いて、\n",
    "- Code.decode（）では、左から順にCode.stackに格納して\n",
    "- それがTable.codeと一致した瞬間に文字列を置き換えてcode.symbolに入れています。\n",
    "- 読み終えたら、code.symbolの方を表示しています。"
   ]
  },
  {
   "cell_type": "markdown",
   "metadata": {
    "collapsed": true
   },
   "source": [
    "<span style=\"margin-left:8px; padding:6px 10px; background:#ff9933; color:#ffffff; font-weight:bold;border-radius:5px;-webkit-border-radius:5px;-moz-border-radius:5px;\">１.１３</span>"
   ]
  },
  {
   "cell_type": "code",
   "execution_count": 47,
   "metadata": {
    "collapsed": false
   },
   "outputs": [],
   "source": [
    "from heapq import *\n",
    "from math import log2\n",
    "from statistics import mean\n",
    "import pprint\n",
    "import numpy as np\n",
    "\n",
    "class Node(object):\n",
    "    def __init__(self, value, prob, left=None, right=None, mid=None):\n",
    "        self.value = value\n",
    "        self.left = left\n",
    "        self.right = right\n",
    "        self.prob = prob\n",
    "        self.mid = mid\n",
    "\n",
    "    def setChildren(self, l, r, m):\n",
    "        self.left = l\n",
    "        self.right = r\n",
    "        self.mid = m\n",
    "\n",
    "    def __repr__(self):\n",
    "        return \"%s -- %s -- %s _ %s\" % (self.value, self.prob, self.left, self.right)\n",
    "\n",
    "    def __cmp__(self, a):\n",
    "        return cmp(self.prob, a.prob)\n",
    "    # heap木でnode同士を比較するのでそれ用\n",
    "    def __lt__(self,other):\n",
    "            return (self.prob) < (other.prob)\n",
    "codes = {}\n",
    "\n",
    "\n",
    "def create_tree(node):\n",
    "    # 偶数個の場合は3個づつ取っていくと最後に2個あまり、符号長が勿体無いので\n",
    "    if len(node) % 2 == 0:\n",
    "        l = heappop(node)\n",
    "        r = heappop(node)\n",
    "        \n",
    "        above = Node(None, r.prob + l.prob)\n",
    "        above.setChildren(l, r, None)\n",
    "        heappush(node, above)\n",
    "    # len　nodeが１になるまで回す。\n",
    "    while len(node) > 1:\n",
    "        # 確率の小さい方から三つを取り出す。heap木の利用。\n",
    "        # 確率の小さいものほど木の下側になるようにさきに取り出す。\n",
    "        l = heappop(node)\n",
    "        r = heappop(node)\n",
    "        m = heappop(node)\n",
    "        # 取り出したやつの親のノードのコンストラクタを呼ぶ\n",
    "        above = Node(None, r.prob + l.prob + m.prob)\n",
    "        above.setChildren(l, r, m)\n",
    "        heappush(node, above)\n",
    "        \n",
    "    \n",
    "        \n",
    "def make_code(s, node):\n",
    "    # sに文字列を完成させていく。\n",
    "    # valueがあるのは葉だけ。\n",
    "    if node.value:\n",
    "        if not s:\n",
    "            codes[node.value] = \"0\"\n",
    "        else:\n",
    "            codes[node.value] = s\n",
    "    else:\n",
    "        make_code(s+\"0\", node.left)\n",
    "        make_code(s+\"1\", node.right)\n",
    "        if node.mid: make_code(s+\"2\", node.mid)\n",
    "\n",
    "# adapter\n",
    "def huffman(syms, probs):\n",
    "    # key=sym, value=probsの連想配列に変換してからNodeクラスの要素に入れる\n",
    "    dic = {key: val for key, val in zip(syms, probs)}\n",
    "    # nodesは葉の数だけできる。まだsetChildrenはしていない。\n",
    "    nodes = [Node(s, p) for (s, p) in dic.items()]\n",
    "    heapify(nodes)\n",
    "    # 作ったnodeをcreate_treeへ\n",
    "    create_tree(nodes)\n",
    "    return make_code(\"\", nodes[0])\n",
    "\n",
    "def H(lst):\n",
    "    return -sum([x*log2(x) if x != 0 else 0 for x in lst])\n",
    "\n",
    "        \n"
   ]
  },
  {
   "cell_type": "code",
   "execution_count": 49,
   "metadata": {
    "collapsed": false
   },
   "outputs": [
    {
     "name": "stdout",
     "output_type": "stream",
     "text": [
      "alphabet␣size>␣\n"
     ]
    },
    {
     "ename": "KeyboardInterrupt",
     "evalue": "",
     "output_type": "error",
     "traceback": [
      "\u001b[0;31m---------------------------------------------------------------------------\u001b[0m",
      "\u001b[0;31mKeyboardInterrupt\u001b[0m                         Traceback (most recent call last)",
      "\u001b[0;32m/usr/lib/python3/dist-packages/ipykernel/kernelbase.py\u001b[0m in \u001b[0;36m_input_request\u001b[0;34m(self, prompt, ident, parent, password)\u001b[0m\n\u001b[1;32m    718\u001b[0m             \u001b[0;32mtry\u001b[0m\u001b[0;34m:\u001b[0m\u001b[0;34m\u001b[0m\u001b[0m\n\u001b[0;32m--> 719\u001b[0;31m                 \u001b[0mident\u001b[0m\u001b[0;34m,\u001b[0m \u001b[0mreply\u001b[0m \u001b[0;34m=\u001b[0m \u001b[0mself\u001b[0m\u001b[0;34m.\u001b[0m\u001b[0msession\u001b[0m\u001b[0;34m.\u001b[0m\u001b[0mrecv\u001b[0m\u001b[0;34m(\u001b[0m\u001b[0mself\u001b[0m\u001b[0;34m.\u001b[0m\u001b[0mstdin_socket\u001b[0m\u001b[0;34m,\u001b[0m \u001b[0;36m0\u001b[0m\u001b[0;34m)\u001b[0m\u001b[0;34m\u001b[0m\u001b[0m\n\u001b[0m\u001b[1;32m    720\u001b[0m             \u001b[0;32mexcept\u001b[0m \u001b[0mException\u001b[0m\u001b[0;34m:\u001b[0m\u001b[0;34m\u001b[0m\u001b[0m\n",
      "\u001b[0;32m/usr/lib/python3/dist-packages/jupyter_client/session.py\u001b[0m in \u001b[0;36mrecv\u001b[0;34m(self, socket, mode, content, copy)\u001b[0m\n\u001b[1;32m    738\u001b[0m         \u001b[0;32mtry\u001b[0m\u001b[0;34m:\u001b[0m\u001b[0;34m\u001b[0m\u001b[0m\n\u001b[0;32m--> 739\u001b[0;31m             \u001b[0mmsg_list\u001b[0m \u001b[0;34m=\u001b[0m \u001b[0msocket\u001b[0m\u001b[0;34m.\u001b[0m\u001b[0mrecv_multipart\u001b[0m\u001b[0;34m(\u001b[0m\u001b[0mmode\u001b[0m\u001b[0;34m,\u001b[0m \u001b[0mcopy\u001b[0m\u001b[0;34m=\u001b[0m\u001b[0mcopy\u001b[0m\u001b[0;34m)\u001b[0m\u001b[0;34m\u001b[0m\u001b[0m\n\u001b[0m\u001b[1;32m    740\u001b[0m         \u001b[0;32mexcept\u001b[0m \u001b[0mzmq\u001b[0m\u001b[0;34m.\u001b[0m\u001b[0mZMQError\u001b[0m \u001b[0;32mas\u001b[0m \u001b[0me\u001b[0m\u001b[0;34m:\u001b[0m\u001b[0;34m\u001b[0m\u001b[0m\n",
      "\u001b[0;32m/usr/lib/python3/dist-packages/zmq/sugar/socket.py\u001b[0m in \u001b[0;36mrecv_multipart\u001b[0;34m(self, flags, copy, track)\u001b[0m\n\u001b[1;32m    394\u001b[0m         \"\"\"\n\u001b[0;32m--> 395\u001b[0;31m         \u001b[0mparts\u001b[0m \u001b[0;34m=\u001b[0m \u001b[0;34m[\u001b[0m\u001b[0mself\u001b[0m\u001b[0;34m.\u001b[0m\u001b[0mrecv\u001b[0m\u001b[0;34m(\u001b[0m\u001b[0mflags\u001b[0m\u001b[0;34m,\u001b[0m \u001b[0mcopy\u001b[0m\u001b[0;34m=\u001b[0m\u001b[0mcopy\u001b[0m\u001b[0;34m,\u001b[0m \u001b[0mtrack\u001b[0m\u001b[0;34m=\u001b[0m\u001b[0mtrack\u001b[0m\u001b[0;34m)\u001b[0m\u001b[0;34m]\u001b[0m\u001b[0;34m\u001b[0m\u001b[0m\n\u001b[0m\u001b[1;32m    396\u001b[0m         \u001b[0;31m# have first part already, only loop while more to receive\u001b[0m\u001b[0;34m\u001b[0m\u001b[0;34m\u001b[0m\u001b[0m\n",
      "\u001b[0;32mzmq/backend/cython/socket.pyx\u001b[0m in \u001b[0;36mzmq.backend.cython.socket.Socket.recv (zmq/backend/cython/socket.c:7692)\u001b[0;34m()\u001b[0m\n",
      "\u001b[0;32mzmq/backend/cython/socket.pyx\u001b[0m in \u001b[0;36mzmq.backend.cython.socket.Socket.recv (zmq/backend/cython/socket.c:7469)\u001b[0;34m()\u001b[0m\n",
      "\u001b[0;32mzmq/backend/cython/socket.pyx\u001b[0m in \u001b[0;36mzmq.backend.cython.socket._recv_copy (zmq/backend/cython/socket.c:2353)\u001b[0;34m()\u001b[0m\n",
      "\u001b[0;32m/usr/lib/python3/dist-packages/zmq/backend/cython/checkrc.pxd\u001b[0m in \u001b[0;36mzmq.backend.cython.checkrc._check_rc (zmq/backend/cython/socket.c:8007)\u001b[0;34m()\u001b[0m\n",
      "\u001b[0;31mKeyboardInterrupt\u001b[0m: ",
      "\nDuring handling of the above exception, another exception occurred:\n",
      "\u001b[0;31mKeyboardInterrupt\u001b[0m                         Traceback (most recent call last)",
      "\u001b[0;32m<ipython-input-49-b08417f6a36f>\u001b[0m in \u001b[0;36m<module>\u001b[0;34m()\u001b[0m\n\u001b[1;32m      1\u001b[0m \u001b[0;32mif\u001b[0m \u001b[0m__name__\u001b[0m \u001b[0;34m==\u001b[0m \u001b[0;34m\"__main__\"\u001b[0m\u001b[0;34m:\u001b[0m\u001b[0;34m\u001b[0m\u001b[0m\n\u001b[1;32m      2\u001b[0m     \u001b[0mprint\u001b[0m\u001b[0;34m(\u001b[0m\u001b[0;34m'alphabet␣size>␣'\u001b[0m\u001b[0;34m)\u001b[0m\u001b[0;34m\u001b[0m\u001b[0m\n\u001b[0;32m----> 3\u001b[0;31m     \u001b[0mN\u001b[0m \u001b[0;34m=\u001b[0m \u001b[0mint\u001b[0m\u001b[0;34m(\u001b[0m\u001b[0minput\u001b[0m\u001b[0;34m(\u001b[0m\u001b[0;34m)\u001b[0m\u001b[0;34m)\u001b[0m\u001b[0;34m\u001b[0m\u001b[0m\n\u001b[0m\u001b[1;32m      4\u001b[0m     \u001b[0msyms\u001b[0m \u001b[0;34m=\u001b[0m \u001b[0mlist\u001b[0m\u001b[0;34m(\u001b[0m\u001b[0;34m)\u001b[0m\u001b[0;34m\u001b[0m\u001b[0m\n\u001b[1;32m      5\u001b[0m     \u001b[0mprobs\u001b[0m \u001b[0;34m=\u001b[0m \u001b[0mlist\u001b[0m\u001b[0;34m(\u001b[0m\u001b[0;34m)\u001b[0m\u001b[0;34m\u001b[0m\u001b[0m\n",
      "\u001b[0;32m/usr/lib/python3/dist-packages/ipykernel/kernelbase.py\u001b[0m in \u001b[0;36mraw_input\u001b[0;34m(self, prompt)\u001b[0m\n\u001b[1;32m    692\u001b[0m             \u001b[0mself\u001b[0m\u001b[0;34m.\u001b[0m\u001b[0m_parent_ident\u001b[0m\u001b[0;34m,\u001b[0m\u001b[0;34m\u001b[0m\u001b[0m\n\u001b[1;32m    693\u001b[0m             \u001b[0mself\u001b[0m\u001b[0;34m.\u001b[0m\u001b[0m_parent_header\u001b[0m\u001b[0;34m,\u001b[0m\u001b[0;34m\u001b[0m\u001b[0m\n\u001b[0;32m--> 694\u001b[0;31m             \u001b[0mpassword\u001b[0m\u001b[0;34m=\u001b[0m\u001b[0;32mFalse\u001b[0m\u001b[0;34m,\u001b[0m\u001b[0;34m\u001b[0m\u001b[0m\n\u001b[0m\u001b[1;32m    695\u001b[0m         )\n\u001b[1;32m    696\u001b[0m \u001b[0;34m\u001b[0m\u001b[0m\n",
      "\u001b[0;32m/usr/lib/python3/dist-packages/ipykernel/kernelbase.py\u001b[0m in \u001b[0;36m_input_request\u001b[0;34m(self, prompt, ident, parent, password)\u001b[0m\n\u001b[1;32m    722\u001b[0m             \u001b[0;32mexcept\u001b[0m \u001b[0mKeyboardInterrupt\u001b[0m\u001b[0;34m:\u001b[0m\u001b[0;34m\u001b[0m\u001b[0m\n\u001b[1;32m    723\u001b[0m                 \u001b[0;31m# re-raise KeyboardInterrupt, to truncate traceback\u001b[0m\u001b[0;34m\u001b[0m\u001b[0;34m\u001b[0m\u001b[0m\n\u001b[0;32m--> 724\u001b[0;31m                 \u001b[0;32mraise\u001b[0m \u001b[0mKeyboardInterrupt\u001b[0m\u001b[0;34m\u001b[0m\u001b[0m\n\u001b[0m\u001b[1;32m    725\u001b[0m             \u001b[0;32melse\u001b[0m\u001b[0;34m:\u001b[0m\u001b[0;34m\u001b[0m\u001b[0m\n\u001b[1;32m    726\u001b[0m                 \u001b[0;32mbreak\u001b[0m\u001b[0;34m\u001b[0m\u001b[0m\n",
      "\u001b[0;31mKeyboardInterrupt\u001b[0m: "
     ]
    }
   ],
   "source": [
    "if __name__ == \"__main__\": \n",
    "    print('alphabet␣size>␣')\n",
    "    N = int(input())\n",
    "    syms = list()\n",
    "    probs = list()\n",
    "    for i in range(N):\n",
    "        print('symbol_{}> '.format(i+1), end='')\n",
    "        syms.append(str(input()))\n",
    "        print('p_{}> '.format(i+1), end='')\n",
    "        probs.append(float(input()))\n",
    "    \n",
    "    huffman(syms, probs)\n",
    "    print(\"cw␣for␣\")\n",
    "    pprint.pprint(codes, width=1)\n",
    "    print('entropy: ')\n",
    "    print(H(probs))\n",
    "    print('average_length')\n",
    "    print(np.dot(np.array([len(l) for l in codes.values()]), np.sort(np.array(probs))[::-1].T))\n"
   ]
  },
  {
   "cell_type": "markdown",
   "metadata": {},
   "source": [
    "#### 1-9とほとんど同じだが\n",
    "- 三つづつ取っていくように考えた。\n",
    "- class Nodeのプロパティにmidを追加している。\n",
    "- 作るときは三つづつ選んで親を作ってを繰り返している\n",
    "- 問題は普通に取っていくと最後に2個だけ残ってしまうパターン\n",
    "- 一回のNodeで3つが１つになることから二つ減ることがわかる\n",
    "- それで最終的に二個残ってしまうのは、2n + 2でかける自然数 n が存在するとき\n",
    "- その時だけ一番確率の少ない(三つではなく)二つを取り出している。\n",
    "- そうすると無駄なく符号語を割り振れる"
   ]
  },
  {
   "cell_type": "markdown",
   "metadata": {
    "collapsed": true
   },
   "source": [
    "<span style=\"margin-left:8px; padding:6px 10px; background:#ff9933; color:#ffffff; font-weight:bold;border-radius:5px;-webkit-border-radius:5px;-moz-border-radius:5px;\">１.１４</span>"
   ]
  },
  {
   "cell_type": "code",
   "execution_count": 5,
   "metadata": {
    "collapsed": false
   },
   "outputs": [
    {
     "name": "stdout",
     "output_type": "stream",
     "text": [
      "num of things> 4\n",
      "p_1> 0.3\n",
      "p_2> 0.4\n",
      "p_3> 0.1\n",
      "p_4> 0.2\n",
      "question: xは [1, 4]に含まれますか\n",
      "answer: y\n",
      "question: xは [4]に含まれますか\n",
      "answer: n\n",
      "final answer: 1\n"
     ]
    }
   ],
   "source": [
    "import numpy as np\n",
    "import pandas as pd\n",
    "\n",
    "# 確率を半分に分けるときに使う計算用のクラス\n",
    "class Sack():\n",
    "    def __init__(self, a, b):\n",
    "        self.a = a\n",
    "        self.b = b\n",
    "        self.Aindex = list()\n",
    "        self.Bindex = list()\n",
    "        \n",
    "    # 　aとbの値がちょうど半分になるようにAとBに割り振る。\n",
    "    # 大きい順に並び替えて、A,B小さい方に入れていく。\n",
    "    def make_sack(self, df):\n",
    "        for i in range(len(df.probs.values)):\n",
    "            df_sorted = df.sort_values('probs', ascending=False)\n",
    "            if self.a >= self.b:\n",
    "                self.b += df_sorted.iloc[i].probs\n",
    "                self.Bindex.append(df_sorted.iloc[i].name)\n",
    "            else:\n",
    "                self.a += df_sorted.iloc[i].probs\n",
    "                sack.Aindex.append(df_sorted.iloc[i].name)\n",
    "    \n",
    "    def cleared(self):\n",
    "        self.a = 0\n",
    "        self.b = 0\n",
    "        self.Aindex = list()\n",
    "        self.Bindex = list()\n",
    "\n",
    "\n",
    "if __name__ == \"__main__\": \n",
    "    print('num of things> ', end='')\n",
    "    N = int(input())\n",
    "    probs = np.zeros(N)\n",
    "    for i in range(N):\n",
    "        print('p_{}> '.format(i+1), end='')\n",
    "        probs[i] = float(input())\n",
    "\n",
    "    df = pd.DataFrame(probs)\n",
    "    df.columns = ['probs']\n",
    "    df.index += 1\n",
    "    \n",
    "    sack = Sack(0, 0)\n",
    "    while(1+1==2):\n",
    "        sack.make_sack(df)\n",
    "        print('question: xは '+ str(sack.Aindex) +'に含まれますか')\n",
    "        print('answer: ', end='')\n",
    "        ans = str(input())\n",
    "        if ans == 'y':\n",
    "            df = df.drop(sack.Bindex)\n",
    "        elif ans == 'n':\n",
    "            df = df.drop(sack.Aindex)\n",
    "            sack.Aindex = sack.Bindex\n",
    "        else:\n",
    "            print('Input y or n')\n",
    "            \n",
    "        if len(sack.Aindex) == 1:\n",
    "            print('final answer: '+str(sack.Aindex[0]))\n",
    "            break\n",
    "        else:\n",
    "            sack.cleared()\n",
    "        "
   ]
  },
  {
   "cell_type": "markdown",
   "metadata": {
    "collapsed": false
   },
   "source": [
    "#### ランプの魔神、考え方。\n",
    "一回の質問で得られる情報量を最大にしたい。\n",
    "\n",
    "- p = 1/2で情報量が最大になる。\n",
    "- 確率の和が半分になるように選んでこよう。\n",
    "\n",
    "##### 確率の和が丁度1/2づつになるように分けるアルゴリズム\n",
    "\n",
    "- 大きい順にソート\n",
    "- 大きいものから順に取り出して、A, Bの小さい方に入れていく\n",
    "\n",
    "##### 質問をする\n",
    "\n",
    "- 魔神にyes or noをもらったら、当てはまらない方を捨てて残りでまた確率の和が丁度1/2づつになるように分ける\n",
    "- 候補が残り一つになったらそれがファイナルアンサー"
   ]
  },
  {
   "cell_type": "code",
   "execution_count": null,
   "metadata": {
    "collapsed": false
   },
   "outputs": [],
   "source": []
  },
  {
   "cell_type": "code",
   "execution_count": null,
   "metadata": {
    "collapsed": false
   },
   "outputs": [],
   "source": []
  },
  {
   "cell_type": "code",
   "execution_count": null,
   "metadata": {
    "collapsed": false
   },
   "outputs": [],
   "source": []
  },
  {
   "cell_type": "code",
   "execution_count": null,
   "metadata": {
    "collapsed": false
   },
   "outputs": [],
   "source": []
  },
  {
   "cell_type": "code",
   "execution_count": 31,
   "metadata": {
    "collapsed": true
   },
   "outputs": [],
   "source": [
    "from IPython.core.debugger import Pdb; \n",
    "Pdb().set_trace()"
   ]
  },
  {
   "cell_type": "code",
   "execution_count": null,
   "metadata": {
    "collapsed": false
   },
   "outputs": [],
   "source": []
  },
  {
   "cell_type": "code",
   "execution_count": null,
   "metadata": {
    "collapsed": true
   },
   "outputs": [],
   "source": []
  }
 ],
 "metadata": {
  "kernelspec": {
   "display_name": "Python 3",
   "language": "python",
   "name": "python3"
  },
  "language_info": {
   "codemirror_mode": {
    "name": "ipython",
    "version": 3
   },
   "file_extension": ".py",
   "mimetype": "text/x-python",
   "name": "python",
   "nbconvert_exporter": "python",
   "pygments_lexer": "ipython3",
   "version": "3.5.3"
  }
 },
 "nbformat": 4,
 "nbformat_minor": 2
}

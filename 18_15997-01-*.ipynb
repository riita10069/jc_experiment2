{
 "cells": [
  {
   "cell_type": "markdown",
   "metadata": {},
   "source": [
    "## 情報通信実験2 課題1\n",
    "山田遼太\n",
    "\n",
    "18B15997\n",
    "\n",
    "情報通信実験2 (ICT.E218)\n",
    "<style>\n",
    "#jqs-1 li {\n",
    "  display: none;\n",
    "}\n",
    "</style>\n",
    "<script>\n",
    "$(\"#jqs-1 button\").click(function() {\n",
    "   $(\"#jqs-1 li\").show('slow');\n",
    "}); \n",
    "</script>\n",
    "##### 協力者\n",
    "- 栢之間諒汰\n",
    "\n",
    "\n",
    "\n",
    "\n",
    "\n",
    "\n",
    "#### 注意事項\n",
    "正しくプログラムが動作しない、解答がどの問題に対応するか分からない、などの不備がございましたら、文脈上もっとも尤もらしい修正を施して採点していただけますと幸いです。"
   ]
  },
  {
   "cell_type": "markdown",
   "metadata": {},
   "source": [
    "<div style=\"height:12px;\">\n",
    "<span style=\"margin-left:8px; padding:6px 10px; background:#ff9933; color:#ffffff; font-weight:bold;border-radius:5px;-webkit-border-radius:5px;-moz-border-radius:5px;\">１.１</span>\n",
    "</div>\n",
    "<div style=\"border:2px solid #ff9933; padding:25px 12px 10px; font-size:0.85em;border-radius:5px;-webkit-border-radius:5px;-moz-border-radius:5px;\">\n",
    "    <li>GIF　→ 画像圧縮、画像の透過、アニメーションなどに用いる</li>\n",
    "    <li>Huffyuv　→ 動画の圧縮に用いる</li>\n",
    "    <li>TTA→ 音声の圧縮に用いる</li>\n",
    "\n",
    "</div>"
   ]
  },
  {
   "cell_type": "markdown",
   "metadata": {},
   "source": [
    "<div style=\"height:12px;\">\n",
    "<span style=\"margin-left:8px; padding:6px 10px; background:#ff9933; color:#ffffff; font-weight:bold;border-radius:5px;-webkit-border-radius:5px;-moz-border-radius:5px;\">１.２</span>\n",
    "</div>\n",
    "<div style=\"border:2px solid #ff9933; padding:25px 12px 10px; font-size:0.85em;border-radius:5px;-webkit-border-radius:5px;-moz-border-radius:5px;\">\n",
    "    <li>MPEG-1→動画、音声を圧縮・伸張するときに用いる</li>\n",
    "    <li>VP8→動画圧縮に用いる。</li>\n",
    "    <li>Vorbis→音声圧縮に用いる。</li>\n",
    "</div>"
   ]
  },
  {
   "cell_type": "markdown",
   "metadata": {},
   "source": [
    "<div style=\"height:12px;\">\n",
    "<span style=\"margin-left:8px; padding:6px 10px; background:#ff9933; color:#ffffff; font-weight:bold;border-radius:5px;-webkit-border-radius:5px;-moz-border-radius:5px;\">１.３</span>\n",
    "</div>\n",
    "<div style=\"border:2px solid #ff9933; padding:25px 12px 10px; font-size:0.85em;border-radius:5px;-webkit-border-radius:5px;-moz-border-radius:5px;\">\n",
    "符号長は8\n",
    "</div>"
   ]
  },
  {
   "cell_type": "markdown",
   "metadata": {},
   "source": [
    "<div style=\"height:12px;\">\n",
    "<span style=\"margin-left:8px; padding:6px 10px; background:#ff9933; color:#ffffff; font-weight:bold;border-radius:5px;-webkit-border-radius:5px;-moz-border-radius:5px;\">１.４</span>\n",
    "</div>\n",
    "<div style=\"border:2px solid #ff9933; padding:25px 12px 10px; font-size:0.85em;border-radius:5px;-webkit-border-radius:5px;-moz-border-radius:5px;\">\n",
    "a:0\n",
    "b:10\n",
    "c:110\n",
    "d:1110\n",
    "e:1111\n",
    "</div>"
   ]
  },
  {
   "cell_type": "code",
   "execution_count": 1,
   "metadata": {
    "collapsed": true
   },
   "outputs": [],
   "source": [
    "class Code():\n",
    "    def __init__(self, pattern, symbol, codeword):\n",
    "        self.pattern = pattern\n",
    "        self.symbol = symbol\n",
    "        self.codeword = codeword\n",
    "        \n",
    "    def encode(self):\n",
    "        if self.pattern == 1:\n",
    "            x = self.symbol.replace('a', '0')\n",
    "            self.codeword = x.replace('b', '1')\n",
    "        elif self.pattern == 2:\n",
    "            x = self.symbol.replace('a', '1')\n",
    "            x = x.replace('b', '01')\n",
    "            self.codeword = x.replace('c', '001')\n",
    "        elif self.pattern == 3:\n",
    "            x = self.symbol.replace('a', '0')\n",
    "            x = x.replace('b', '10')\n",
    "            x = x.replace('c', '110')\n",
    "            self.codeword = x.replace('d', '111')\n",
    "        return 0\n",
    "    \n",
    "    def decode(self):\n",
    "        if self.pattern == 1:\n",
    "            x = self.codeword.replace('1', 'b')\n",
    "            self.symbol = x.replace('0', 'a')\n",
    "        elif self.pattern == 2:\n",
    "            x = self.codeword.replace('001', 'c')\n",
    "            x = x.replace('01', 'b')\n",
    "            self.symbol = x.replace('1', 'a')\n",
    "        elif self.pattern == 3:\n",
    "            x = self.codeword.replace('111', 'd')\n",
    "            x = x.replace('110', 'c')\n",
    "            x = x.replace('10', 'b')\n",
    "            self.symbol = x.replace('0', 'a')\n",
    "        return 0\n",
    "\n"
   ]
  },
  {
   "cell_type": "markdown",
   "metadata": {},
   "source": [
    "<span style=\"margin-left:8px; padding:6px 10px; background:#ff9933; color:#ffffff; font-weight:bold;border-radius:5px;-webkit-border-radius:5px;-moz-border-radius:5px;\">１.５</span>"
   ]
  },
  {
   "cell_type": "code",
   "execution_count": 2,
   "metadata": {
    "collapsed": false
   },
   "outputs": [
    {
     "name": "stdout",
     "output_type": "stream",
     "text": [
      "使いたい語頭符号の番号を入力3\n",
      "symbols aaaababbaba\n",
      "codewords 000010010100100\n"
     ]
    }
   ],
   "source": [
    "print('使いたい語頭符号の番号を入力', end='')\n",
    "pattern = int(input())\n",
    "print('symbols ', end='')\n",
    "sym= str(input())\n",
    "\n",
    "coding = Code(pattern, sym, \"\")\n",
    "coding.encode()\n",
    "print('codewords ', end='')\n",
    "print(coding.codeword)"
   ]
  },
  {
   "cell_type": "markdown",
   "metadata": {},
   "source": [
    "<span style=\"margin-left:8px; padding:6px 10px; background:#ff9933; color:#ffffff; font-weight:bold;border-radius:5px;-webkit-border-radius:5px;-moz-border-radius:5px;\">１.６</span>"
   ]
  },
  {
   "cell_type": "code",
   "execution_count": 3,
   "metadata": {
    "collapsed": false
   },
   "outputs": [
    {
     "name": "stdout",
     "output_type": "stream",
     "text": [
      "使いたい語頭符号の番号を入力3\n",
      "codewords 10111001\n",
      "symbols bdaa1\n"
     ]
    }
   ],
   "source": [
    "print('使いたい語頭符号の番号を入力', end='')\n",
    "pattern = int(input())\n",
    "print('codewords ', end='')\n",
    "codew= str(input())\n",
    "\n",
    "coding = Code(pattern, \"\", codew)\n",
    "coding.decode()\n",
    "print('symbols ', end='')\n",
    "print(coding.symbol)"
   ]
  },
  {
   "cell_type": "markdown",
   "metadata": {
    "collapsed": true
   },
   "source": [
    "<span style=\"margin-left:8px; padding:6px 10px; background:#ff9933; color:#ffffff; font-weight:bold;border-radius:5px;-webkit-border-radius:5px;-moz-border-radius:5px;\">１.７</span>"
   ]
  },
  {
   "cell_type": "code",
   "execution_count": null,
   "metadata": {
    "collapsed": true
   },
   "outputs": [],
   "source": [
    "from heapq import *\n",
    "\n",
    "class Node(object):\n",
    "    def __init__(self, depth, left=None, right=None):\n",
    "        self.left = left\n",
    "        self.right = right\n",
    "        self.depth = depth\n",
    "\n",
    "    def setChildren(self, l, r):\n",
    "        self.left = l\n",
    "        self.right = r\n",
    "\n",
    "    def __repr__(self):\n",
    "        return \"%s -- %s _ %s\" % (self.depth, self.left, self.right)\n",
    "\n",
    "    def __cmp__(self, a):\n",
    "        return cmp(self.depth, a.depth)\n",
    "    \n",
    "    def __lt__(self,other):\n",
    "        return (self.depth) < (other.depth)\n",
    "\n",
    "\n",
    "def create_tree(array):\n",
    "    node = [Node(depth) for depth in array]\n",
    "    heapify(node)\n",
    "    for j in range(len(node))\n",
    "        n = heappop(node)\n",
    "        above = Node(n.depth - 1 - i)\n",
    "        above.setChildren(n, None)　if j != 0 and i == 0 else above.setChildren(None, n)\n",
    "        for i in range(n.depth - 1):\n",
    "            above = Node(n.depth - 1 - i)\n",
    "            above.setChildren(n, None)　if j != 0 and i == 0 else above.setChildren(None, n)\n",
    "            heappush(node, above)\n",
    "            n = above \n",
    "    return node[0]\n",
    "\n",
    "def make_code(node):\n",
    "    s = \"\"\n",
    "    make_code(s+\"0\", node.left)\n",
    "    make_code(s+\"1\", node.right)\n",
    "\n",
    "def huffman(array):\n",
    "    node = create_tree(array)\n",
    "    node make_code(node)\n",
    "        \n",
    "if __name__ == \"__main__\": \n",
    "    print('alphabet␣size>␣')\n",
    "    N = int(input())\n",
    "    array = [float(input()) for i in range(N)] \n",
    "    huffman(array)\n",
    "    "
   ]
  },
  {
   "cell_type": "markdown",
   "metadata": {},
   "source": [
    "<span style=\"margin-left:8px; padding:6px 10px; background:#ff9933; color:#ffffff; font-weight:bold;border-radius:5px;-webkit-border-radius:5px;-moz-border-radius:5px;\">１.８</span>"
   ]
  },
  {
   "cell_type": "code",
   "execution_count": null,
   "metadata": {
    "collapsed": false
   },
   "outputs": [],
   "source": []
  },
  {
   "cell_type": "markdown",
   "metadata": {},
   "source": [
    "<span style=\"margin-left:8px; padding:6px 10px; background:#ff9933; color:#ffffff; font-weight:bold;border-radius:5px;-webkit-border-radius:5px;-moz-border-radius:5px;\">１.９</span>"
   ]
  },
  {
   "cell_type": "code",
   "execution_count": 14,
   "metadata": {
    "collapsed": false
   },
   "outputs": [
    {
     "name": "stdout",
     "output_type": "stream",
     "text": [
      "alphabet␣size>␣\n",
      "1\n",
      "symbol_1> a\n",
      "p_1> 1\n",
      "{'a': '0'}\n",
      "entropy: \n",
      "-0.0\n",
      "average_length\n",
      "1\n"
     ]
    }
   ],
   "source": [
    "from heapq import *\n",
    "from math import log2\n",
    "from statistics import mean\n",
    "import pprint\n",
    "\n",
    "class Node(object):\n",
    "    def __init__(self, value, prob, left=None, right=None):\n",
    "        self.value = value\n",
    "        self.left = left\n",
    "        self.right = right\n",
    "        self.prob = prob\n",
    "\n",
    "    def setChildren(self, l, r):\n",
    "        self.left = l\n",
    "        self.right = r\n",
    "\n",
    "    def __repr__(self):\n",
    "        return \"%s -- %s -- %s _ %s\" % (self.value, self.prob, self.left, self.right)\n",
    "\n",
    "    def __cmp__(self, a):\n",
    "        return cmp(self.prob, a.prob)\n",
    "    \n",
    "    def __lt__(self,other):\n",
    "            return (self.prob) < (other.prob)\n",
    "\n",
    "\n",
    "def create_tree(node):\n",
    "    while len(node) > 1:\n",
    "        l = heappop(node)\n",
    "        r = heappop(node)\n",
    "        \n",
    "        above = Node(None, r.prob + l.prob, l, r)\n",
    "        heappush(node, above)\n",
    "\n",
    "def make_code(s, node):\n",
    "    codes = {}\n",
    "    if node.value:\n",
    "        if not s:\n",
    "            codes[node.value] = \"0\"\n",
    "        else:\n",
    "            codes[node.value] = s\n",
    "    else:\n",
    "        make_code(s+\"0\", node.left)\n",
    "        make_code(s+\"1\", node.right)\n",
    "\n",
    "    return codes\n",
    "\n",
    "def huffman(syms, probs):\n",
    "    dic = {key: val for key, val in zip(syms, probs)}\n",
    "    nodes = [Node(s, p) for (s, p) in dic.items()]\n",
    "    heapify(nodes)\n",
    "    create_tree(nodes)\n",
    "    return make_code(\"\", nodes[0])\n",
    "\n",
    "def H(lst):\n",
    "    return -sum([x*log2(x) if x != 0 else 0 for x in lst])\n",
    "\n",
    "        \n",
    "if __name__ == \"__main__\": \n",
    "    print('alphabet␣size>␣')\n",
    "    N = int(input())\n",
    "    syms = list()\n",
    "    probs = list()\n",
    "    for i in range(N):\n",
    "        print('symbol_{}> '.format(i+1), end='')\n",
    "        syms.append(str(input()))\n",
    "        print('p_{}> '.format(i+1), end='')\n",
    "        probs.append(float(input()))\n",
    "    \n",
    "    codes = huffman(syms, probs)\n",
    "    pprint.pprint(codes)\n",
    "    print('entropy: ')\n",
    "    print(H(probs))\n",
    "    print('average_length')\n",
    "    print(mean([len(l) for l in codes.values()]))\n"
   ]
  },
  {
   "cell_type": "markdown",
   "metadata": {
    "collapsed": true
   },
   "source": [
    "<span style=\"margin-left:8px; padding:6px 10px; background:#ff9933; color:#ffffff; font-weight:bold;border-radius:5px;-webkit-border-radius:5px;-moz-border-radius:5px;\">１.１０</span>"
   ]
  },
  {
   "cell_type": "code",
   "execution_count": 7,
   "metadata": {
    "collapsed": false
   },
   "outputs": [],
   "source": [
    "class Code():\n",
    "    def __init__(self, symbol, codeword, stack):\n",
    "        self.symbol = str(symbol) + \"/\"\n",
    "        self.codeword = codeword\n",
    "        self.stack = stack\n",
    "        \n",
    "    def decode(self):\n",
    "        for c in self.symbol:\n",
    "            self.stack += str(c)\n",
    "            if self.stack == \"10\":\n",
    "                self.codeword += \"a\"\n",
    "                self.stack = \"\"\n",
    "            elif self.stack == \"00\":\n",
    "                self.codeword += \"b\"\n",
    "                self.stack = \"\"\n",
    "            elif self.stack == \"11\":\n",
    "                self.codeword += \"c\"\n",
    "                self.stack = \"\"\n",
    "            elif self.stack == \"01\"or  self.stack == \"0/\" :\n",
    "                m = self.codeword.rfind(\"c\")\n",
    "                self.codeword = self.codeword[:m] + \"d\" + self.codeword[m+1:]\n",
    "                self.stack = \"1\"\n"
   ]
  },
  {
   "cell_type": "code",
   "execution_count": 8,
   "metadata": {
    "collapsed": false
   },
   "outputs": [
    {
     "name": "stdout",
     "output_type": "stream",
     "text": [
      "symbols 10001101011101101000110101000110101110110100011010110\n",
      "codewords abdacadabdaabdacadabdad\n"
     ]
    }
   ],
   "source": [
    "print('symbols ', end='')\n",
    "sym= str(input())\n",
    "\n",
    "coding = Code(sym, \"\", \"\")\n",
    "coding.decode()\n",
    "print('codewords ', end='')\n",
    "print(coding.codeword)"
   ]
  },
  {
   "cell_type": "markdown",
   "metadata": {
    "collapsed": true
   },
   "source": [
    "<span style=\"margin-left:8px; padding:6px 10px; background:#ff9933; color:#ffffff; font-weight:bold;border-radius:5px;-webkit-border-radius:5px;-moz-border-radius:5px;\">１.１１</span>"
   ]
  },
  {
   "cell_type": "code",
   "execution_count": 28,
   "metadata": {
    "collapsed": false
   },
   "outputs": [
    {
     "name": "stdout",
     "output_type": "stream",
     "text": [
      "alphabet size 4\n",
      "symbol_1> a\n",
      "codeword_1: 0\n",
      "symbol_2> b\n",
      "codeword_2: 01\n",
      "symbol_3> c\n",
      "codeword_3: 001\n",
      "symbol_4> d\n",
      "codeword_4: 0001\n",
      "symbols> ababababaaa\n",
      "codewords 001001001001000\n"
     ]
    }
   ],
   "source": [
    "class Code():\n",
    "    def __init__(self, symbol, codeword):\n",
    "        self.symbol = symbol\n",
    "        self.codeword = str(codeword)\n",
    "        \n",
    "    def encode(self, table):\n",
    "        for i, v in enumerate(self.symbol):\n",
    "            self.codeword = self.codeword.replace(self.symbol[i], table[i])\n",
    "        \n",
    "print('alphabet size ', end='')\n",
    "N = int(input())\n",
    "\n",
    "syms = list(); table = list()\n",
    "for i in range(N):\n",
    "    print('symbol_{}> '.format(i+1), end='')\n",
    "    syms.append(str(input()))\n",
    "    print('codeword_{}: '.format(i+1), end='')\n",
    "    table.append(str(input()))\n",
    "\n",
    "print('symbols> ', end='')\n",
    "codeword = str(input())\n",
    "\n",
    "coding = Code(syms, codeword)\n",
    "coding.encode(table)\n",
    "print('codewords ', end='')\n",
    "print(coding.codeword)"
   ]
  },
  {
   "cell_type": "markdown",
   "metadata": {},
   "source": [
    "<span style=\"margin-left:8px; padding:6px 10px; background:#ff9933; color:#ffffff; font-weight:bold;border-radius:5px;-webkit-border-radius:5px;-moz-border-radius:5px;\">１.１２</span>"
   ]
  },
  {
   "cell_type": "code",
   "execution_count": null,
   "metadata": {
    "collapsed": false
   },
   "outputs": [],
   "source": []
  },
  {
   "cell_type": "code",
   "execution_count": null,
   "metadata": {
    "collapsed": true
   },
   "outputs": [],
   "source": []
  },
  {
   "cell_type": "code",
   "execution_count": null,
   "metadata": {
    "collapsed": true
   },
   "outputs": [],
   "source": []
  },
  {
   "cell_type": "code",
   "execution_count": null,
   "metadata": {
    "collapsed": true
   },
   "outputs": [],
   "source": []
  },
  {
   "cell_type": "code",
   "execution_count": 9,
   "metadata": {
    "collapsed": true
   },
   "outputs": [],
   "source": [
    "from math import log2\n",
    "class Probability():\n",
    "    def __init__(self, array):\n",
    "        self.array = array\n",
    "        self.entropy = -sum([x*log2(x) if x != 0 else 0 for x in array])\n"
   ]
  },
  {
   "cell_type": "code",
   "execution_count": 15,
   "metadata": {
    "collapsed": false
   },
   "outputs": [
    {
     "name": "stdout",
     "output_type": "stream",
     "text": [
      "num␣of␣things>␣\n",
      "2\n",
      "0.1\n",
      "0.4\n"
     ]
    }
   ],
   "source": [
    "print('num␣of␣things>␣')\n",
    "N = int(input()) #1行目のNを取得する\n",
    "array = [float(input()) for i in range(N)] #複数行の数値の入力を取得\n",
    "\n",
    "prob_list = Probability(array)\n",
    "\n"
   ]
  },
  {
   "cell_type": "code",
   "execution_count": null,
   "metadata": {
    "collapsed": false
   },
   "outputs": [],
   "source": []
  },
  {
   "cell_type": "code",
   "execution_count": null,
   "metadata": {
    "collapsed": false
   },
   "outputs": [],
   "source": []
  },
  {
   "cell_type": "code",
   "execution_count": null,
   "metadata": {
    "collapsed": false
   },
   "outputs": [],
   "source": []
  },
  {
   "cell_type": "code",
   "execution_count": null,
   "metadata": {
    "collapsed": true
   },
   "outputs": [],
   "source": []
  }
 ],
 "metadata": {
  "kernelspec": {
   "display_name": "Python 3",
   "language": "python",
   "name": "python3"
  },
  "language_info": {
   "codemirror_mode": {
    "name": "ipython",
    "version": 3
   },
   "file_extension": ".py",
   "mimetype": "text/x-python",
   "name": "python",
   "nbconvert_exporter": "python",
   "pygments_lexer": "ipython3",
   "version": "3.5.3"
  }
 },
 "nbformat": 4,
 "nbformat_minor": 2
}
